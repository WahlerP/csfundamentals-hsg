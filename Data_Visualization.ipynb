{
  "nbformat": 4,
  "nbformat_minor": 0,
  "metadata": {
    "colab": {
      "name": "Data Visualization.ipynb",
      "provenance": [],
      "collapsed_sections": [
        "84mkXK_vuQ4G",
        "mtlR_--J20V3"
      ],
      "include_colab_link": true
    },
    "kernelspec": {
      "name": "python3",
      "display_name": "Python 3"
    }
  },
  "cells": [
    {
      "cell_type": "markdown",
      "metadata": {
        "id": "view-in-github",
        "colab_type": "text"
      },
      "source": [
        "<a href=\"https://colab.research.google.com/github/WahlerP/csfundamentals-hsg/blob/master/Data_Visualization.ipynb\" target=\"_parent\"><img src=\"https://colab.research.google.com/assets/colab-badge.svg\" alt=\"Open In Colab\"/></a>"
      ]
    },
    {
      "cell_type": "markdown",
      "metadata": {
        "id": "Mj9FOcmaaoia",
        "colab_type": "text"
      },
      "source": [
        "# Why Data Visualization?"
      ]
    },
    {
      "cell_type": "markdown",
      "metadata": {
        "id": "cCTY_ZC8avZ8",
        "colab_type": "text"
      },
      "source": [
        "In Data Science it is often useful to be able to visualize any given data. Humans are very visual creatures: we understand things better when we see things visualized. After all, it is often not possible to represent some results, relationships or peculiar data patterns just by looking at a number of tables. <br> <br> Let's take for example the often used \"iris\" data set, which shows three different flowers (virginica, setosa and versicolor) as well as the length & widths of their petal (Blütenblatt). If we would create a default dataframe (remember the lesson on pandas) of the dataset, we would get the following."
      ]
    },
    {
      "cell_type": "code",
      "metadata": {
        "id": "zr-lj72omL47",
        "colab_type": "code",
        "outputId": "589edc21-9b11-4b3f-cbf6-afbed2c85271",
        "colab": {
          "base_uri": "https://localhost:8080/",
          "height": 405
        }
      },
      "source": [
        "# Download the iris dataset and load it into a DataFrame\n",
        "\n",
        "from sklearn.datasets import load_iris\n",
        "import pandas as pd\n",
        "import numpy as np\n",
        "\n",
        "iris = load_iris()\n",
        "\n",
        "df = pd.DataFrame(data= np.c_[iris['data'], iris['target']],\n",
        "                     columns= iris['feature_names'] + ['target'])\n",
        "df.drop(labels=[\"petal length (cm)\", \"petal width (cm)\"], axis=1)"
      ],
      "execution_count": 1,
      "outputs": [
        {
          "output_type": "execute_result",
          "data": {
            "text/html": [
              "<div>\n",
              "<style scoped>\n",
              "    .dataframe tbody tr th:only-of-type {\n",
              "        vertical-align: middle;\n",
              "    }\n",
              "\n",
              "    .dataframe tbody tr th {\n",
              "        vertical-align: top;\n",
              "    }\n",
              "\n",
              "    .dataframe thead th {\n",
              "        text-align: right;\n",
              "    }\n",
              "</style>\n",
              "<table border=\"1\" class=\"dataframe\">\n",
              "  <thead>\n",
              "    <tr style=\"text-align: right;\">\n",
              "      <th></th>\n",
              "      <th>sepal length (cm)</th>\n",
              "      <th>sepal width (cm)</th>\n",
              "      <th>target</th>\n",
              "    </tr>\n",
              "  </thead>\n",
              "  <tbody>\n",
              "    <tr>\n",
              "      <th>0</th>\n",
              "      <td>5.1</td>\n",
              "      <td>3.5</td>\n",
              "      <td>0.0</td>\n",
              "    </tr>\n",
              "    <tr>\n",
              "      <th>1</th>\n",
              "      <td>4.9</td>\n",
              "      <td>3.0</td>\n",
              "      <td>0.0</td>\n",
              "    </tr>\n",
              "    <tr>\n",
              "      <th>2</th>\n",
              "      <td>4.7</td>\n",
              "      <td>3.2</td>\n",
              "      <td>0.0</td>\n",
              "    </tr>\n",
              "    <tr>\n",
              "      <th>3</th>\n",
              "      <td>4.6</td>\n",
              "      <td>3.1</td>\n",
              "      <td>0.0</td>\n",
              "    </tr>\n",
              "    <tr>\n",
              "      <th>4</th>\n",
              "      <td>5.0</td>\n",
              "      <td>3.6</td>\n",
              "      <td>0.0</td>\n",
              "    </tr>\n",
              "    <tr>\n",
              "      <th>...</th>\n",
              "      <td>...</td>\n",
              "      <td>...</td>\n",
              "      <td>...</td>\n",
              "    </tr>\n",
              "    <tr>\n",
              "      <th>145</th>\n",
              "      <td>6.7</td>\n",
              "      <td>3.0</td>\n",
              "      <td>2.0</td>\n",
              "    </tr>\n",
              "    <tr>\n",
              "      <th>146</th>\n",
              "      <td>6.3</td>\n",
              "      <td>2.5</td>\n",
              "      <td>2.0</td>\n",
              "    </tr>\n",
              "    <tr>\n",
              "      <th>147</th>\n",
              "      <td>6.5</td>\n",
              "      <td>3.0</td>\n",
              "      <td>2.0</td>\n",
              "    </tr>\n",
              "    <tr>\n",
              "      <th>148</th>\n",
              "      <td>6.2</td>\n",
              "      <td>3.4</td>\n",
              "      <td>2.0</td>\n",
              "    </tr>\n",
              "    <tr>\n",
              "      <th>149</th>\n",
              "      <td>5.9</td>\n",
              "      <td>3.0</td>\n",
              "      <td>2.0</td>\n",
              "    </tr>\n",
              "  </tbody>\n",
              "</table>\n",
              "<p>150 rows × 3 columns</p>\n",
              "</div>"
            ],
            "text/plain": [
              "     sepal length (cm)  sepal width (cm)  target\n",
              "0                  5.1               3.5     0.0\n",
              "1                  4.9               3.0     0.0\n",
              "2                  4.7               3.2     0.0\n",
              "3                  4.6               3.1     0.0\n",
              "4                  5.0               3.6     0.0\n",
              "..                 ...               ...     ...\n",
              "145                6.7               3.0     2.0\n",
              "146                6.3               2.5     2.0\n",
              "147                6.5               3.0     2.0\n",
              "148                6.2               3.4     2.0\n",
              "149                5.9               3.0     2.0\n",
              "\n",
              "[150 rows x 3 columns]"
            ]
          },
          "metadata": {
            "tags": []
          },
          "execution_count": 1
        }
      ]
    },
    {
      "cell_type": "markdown",
      "metadata": {
        "id": "SZWnhrcPl26n",
        "colab_type": "text"
      },
      "source": [
        "As we can see, the mere table of different sepal lengths and widths does not really tell us much. Quite contrary, it might even lead to confusion.\n",
        "\n",
        "If we, however, plot the same dataset and add some nice colour coding, the relationship between a flower species and its sepal dimensions become much more apparent!"
      ]
    },
    {
      "cell_type": "code",
      "metadata": {
        "id": "OgCEBCztf43Z",
        "colab_type": "code",
        "outputId": "3e32012a-b8a6-4cf9-af6e-1462902574cc",
        "colab": {
          "base_uri": "https://localhost:8080/",
          "height": 440
        }
      },
      "source": [
        "# no need to understand the following code - just run it and compare the table with the plot\n",
        "import matplotlib.pyplot as plt\n",
        "x_index = 0\n",
        "y_index = 1\n",
        "\n",
        "# this formatter will label the colorbar with the correct target names\n",
        "formatter = plt.FuncFormatter(lambda i, *args: iris.target_names[int(i)])\n",
        "\n",
        "plt.figure(figsize=(8, 6))\n",
        "plt.scatter(iris.data[:, x_index], iris.data[:, y_index], c=iris.target)\n",
        "cb = plt.colorbar(ticks=[0, 1, 2], format=formatter)\n",
        "cb.ax.set_ylabel('Flower Species', rotation=270, labelpad = 15)\n",
        "plt.xlabel(iris.feature_names[x_index])\n",
        "plt.ylabel(iris.feature_names[y_index])\n",
        "\n",
        "plt.tight_layout()\n",
        "plt.show()"
      ],
      "execution_count": 2,
      "outputs": [
        {
          "output_type": "display_data",
          "data": {
            "image/png": "[encoded data removed]",
            "text/plain": [
              "<Figure size 576x432 with 2 Axes>"
            ]
          },
          "metadata": {
            "tags": [],
            "needs_background": "light"
          }
        }
      ]
    },
    {
      "cell_type": "markdown",
      "metadata": {
        "id": "mQTB3THInMhS",
        "colab_type": "text"
      },
      "source": [
        "As we can see, the plot gives us much more detailed and concise understanding of the given data. We can, for example, see that setosa flowers tend to have wide and short sepals whereas the sepals of virginica flowers seem to be taller."
      ]
    },
    {
      "cell_type": "markdown",
      "metadata": {
        "id": "6CpKwGb1XqL5",
        "colab_type": "text"
      },
      "source": [
        "# Matplotlib"
      ]
    },
    {
      "cell_type": "markdown",
      "metadata": {
        "id": "Gt1yqBQ1qn47",
        "colab_type": "text"
      },
      "source": [
        "Matplotlib is the go-to library for visualizing stuff in Python. Let's have a look at the basics.\n",
        "\n",
        "***Keep in Mind:*** <br>\n",
        "At first sight, it will seem that there are quite some components to consider when you start plotting with this Python data visualization library. Admittedly, it can be confusing and sometimes even discouraging seeing the amount of code that is necessary for some plots, not knowing where to start yourself and which components you should use. However, the course does only expect you to know the basics - so don't worry if some complex visualization might not work out the first few tries."
      ]
    },
    {
      "cell_type": "markdown",
      "metadata": {
        "id": "SGrutz2hZlaB",
        "colab_type": "text"
      },
      "source": [
        "## General Matplotlib Tips\n",
        "\n",
        "Before we dive into the details of creating visualizations with Matplotlib, there are a few useful things you should know about using the package."
      ]
    },
    {
      "cell_type": "markdown",
      "metadata": {
        "id": "pviam9JRZlaC",
        "colab_type": "text"
      },
      "source": [
        "### Importing Matplotlib\n",
        "\n",
        "Just as we use the ``np`` shorthand for NumPy and the ``pd`` shorthand for Pandas, we will use some standard shorthands for Matplotlib imports:"
      ]
    },
    {
      "cell_type": "code",
      "metadata": {
        "id": "kSf3-orCZlaD",
        "colab_type": "code",
        "colab": {}
      },
      "source": [
        "import matplotlib as mpl\n",
        "import matplotlib.pyplot as plt"
      ],
      "execution_count": 0,
      "outputs": []
    },
    {
      "cell_type": "markdown",
      "metadata": {
        "id": "YrhoWcLzZlaG",
        "colab_type": "text"
      },
      "source": [
        "The ``plt`` interface is what we will use most often, as we shall see throughout this chapter."
      ]
    },
    {
      "cell_type": "markdown",
      "metadata": {
        "id": "icBqIlr4ZlaG",
        "colab_type": "text"
      },
      "source": [
        "### Setting Styles\n",
        "\n",
        "We will use the ``plt.style`` directive to choose appropriate aesthetic styles for our figures.\n",
        "Here we will set the ``classic`` style, which ensures that the plots we create use the classic Matplotlib style:"
      ]
    },
    {
      "cell_type": "code",
      "metadata": {
        "id": "Gf7XILjOZlaH",
        "colab_type": "code",
        "colab": {}
      },
      "source": [
        "plt.style.use('classic')"
      ],
      "execution_count": 0,
      "outputs": []
    },
    {
      "cell_type": "markdown",
      "metadata": {
        "id": "l-dt0wwPZlaM",
        "colab_type": "text"
      },
      "source": [
        "### ``show()`` or No ``show()``? How to Display Your Plots"
      ]
    },
    {
      "cell_type": "markdown",
      "metadata": {
        "id": "4EtgR-NZZlaM",
        "colab_type": "text"
      },
      "source": [
        "A visualization you can't see won't be of much use, but just how you view your Matplotlib plots depends on the context.\n",
        "The best use of Matplotlib differs depending on how you are using it; roughly, the three applicable contexts are using Matplotlib in a script, in an IPython terminal, or in an IPython notebook."
      ]
    },
    {
      "cell_type": "markdown",
      "metadata": {
        "id": "vlj04HqfZlaN",
        "colab_type": "text"
      },
      "source": [
        "#### Plotting from a script\n",
        "\n",
        "If you are using Matplotlib from within a script, the function ``plt.show()`` is your friend.\n",
        "``plt.show()`` starts an event loop, looks for all currently active figure objects, and opens one or more interactive windows that display your figure or figures.\n",
        "\n",
        "So, for example, you may have a file called *myplot.py* containing the following:\n",
        "\n",
        "```python\n",
        "# ------- file: myplot.py ------\n",
        "import matplotlib.pyplot as plt\n",
        "import numpy as np\n",
        "\n",
        "x = np.linspace(0, 10, 100)\n",
        "\n",
        "plt.plot(x, np.sin(x))\n",
        "plt.plot(x, np.cos(x))\n",
        "\n",
        "plt.show()\n",
        "```\n",
        "\n",
        "You can then run this script from the command-line prompt, which will result in a window opening with your figure displayed:\n",
        "\n",
        "```\n",
        "$ python myplot.py\n",
        "```\n",
        "\n",
        "The ``plt.show()`` command does a lot under the hood, as it must interact with your system's interactive graphical backend.\n",
        "The details of this operation can vary greatly from system to system and even installation to installation, but matplotlib does its best to hide all these details from you.\n",
        "\n",
        "One thing to be aware of: the ``plt.show()`` command should be used *only once* per Python session, and is most often seen at the very end of the script.\n",
        "Multiple ``show()`` commands can lead to unpredictable backend-dependent behavior, and should mostly be avoided."
      ]
    },
    {
      "cell_type": "markdown",
      "metadata": {
        "id": "1i8mSn42ZlaO",
        "colab_type": "text"
      },
      "source": [
        "#### Plotting from an IPython notebook\n",
        "\n",
        "You are currently reading this crashcourse in an IPython notebook. The notebook is a browser-based interactive data analysis tool that can combine narrative, code, graphics, HTML elements, and much more into a single executable document. Because of its flexibility and easy of use, we mainly use notebooks when doing Data Science! \n",
        "\n",
        "Plotting interactively within an IPython notebook can be done with the ``%matplotlib`` command. Here, you have the option of embedding graphics directly in the notebook, with two possible options:\n",
        "\n",
        "- ``%matplotlib notebook`` will lead to *interactive* plots embedded within the notebook\n",
        "- ``%matplotlib inline`` will lead to *static* images of your plot embedded in the notebook\n",
        "\n",
        "For this chapter, we will generally opt for ``%matplotlib inline``:"
      ]
    },
    {
      "cell_type": "code",
      "metadata": {
        "id": "8BNcev2TZlaO",
        "colab_type": "code",
        "colab": {}
      },
      "source": [
        "%matplotlib inline"
      ],
      "execution_count": 0,
      "outputs": []
    },
    {
      "cell_type": "markdown",
      "metadata": {
        "id": "7X3EpA8NZlaR",
        "colab_type": "text"
      },
      "source": [
        "After running this command (it needs to be done only once per kernel/session), any cell within the notebook that creates a plot will embed a PNG image of the resulting graphic - no need for the `plt.show()` command:"
      ]
    },
    {
      "cell_type": "code",
      "metadata": {
        "id": "gHhoR15gZlaR",
        "colab_type": "code",
        "outputId": "e6e80b77-47e0-4a58-e677-be82049fa970",
        "colab": {
          "base_uri": "https://localhost:8080/",
          "height": 273
        }
      },
      "source": [
        "import numpy as np\n",
        "x = np.linspace(0, 10, 100)\n",
        "\n",
        "fig = plt.figure()\n",
        "plt.plot(x, np.sin(x), '-')\n",
        "plt.plot(x, np.cos(x), '--');"
      ],
      "execution_count": 6,
      "outputs": [
        {
          "output_type": "display_data",
          "data": {
            "image/png": "[encoded data removed]",
            "text/plain": [
              "<Figure size 432x288 with 1 Axes>"
            ]
          },
          "metadata": {
            "tags": [],
            "needs_background": "light"
          }
        }
      ]
    },
    {
      "cell_type": "markdown",
      "metadata": {
        "id": "MwYarjYZuMAi",
        "colab_type": "text"
      },
      "source": [
        "## Let's start plotting"
      ]
    },
    {
      "cell_type": "markdown",
      "metadata": {
        "id": "84mkXK_vuQ4G",
        "colab_type": "text"
      },
      "source": [
        "### Basic Plot"
      ]
    },
    {
      "cell_type": "markdown",
      "metadata": {
        "id": "SKgNXIv4uaA2",
        "colab_type": "text"
      },
      "source": [
        "A very basic plot can be created using the `.plot()` operator. This creates a simple graph with an x and an y-axis.\n"
      ]
    },
    {
      "cell_type": "code",
      "metadata": {
        "id": "JE1YK9-WuQRo",
        "colab_type": "code",
        "outputId": "621d6591-b9c6-4f41-f62e-56cf81baebfa",
        "colab": {
          "base_uri": "https://localhost:8080/",
          "height": 0
        }
      },
      "source": [
        "# Create plot with x and y-axis\n",
        "plt.plot()"
      ],
      "execution_count": 7,
      "outputs": [
        {
          "output_type": "execute_result",
          "data": {
            "text/plain": [
              "[]"
            ]
          },
          "metadata": {
            "tags": []
          },
          "execution_count": 7
        },
        {
          "output_type": "display_data",
          "data": {
            "image/png": "[encoded data removed]",
            "text/plain": [
              "<Figure size 432x288 with 1 Axes>"
            ]
          },
          "metadata": {
            "tags": [],
            "needs_background": "light"
          }
        }
      ]
    },
    {
      "cell_type": "markdown",
      "metadata": {
        "id": "4MgtVIHewOMA",
        "colab_type": "text"
      },
      "source": [
        "Looks okay, but not really useful so far. Let's try adding some data to our empty plot. On a still, very basic level, we could try to plot a character \"o\".\n",
        "\n",
        "*Note:* For this to work we must specify some arbitrary x- and y-values first. The \"o\" character will therefore be the third argument of the plot.The first two values (5,5) are the maximum x and y values that we want to visualize, the third argument (\"o\") is called a format string character (=fmt) which is used for testing out the basic properties of a graph (not practical in real life)."
      ]
    },
    {
      "cell_type": "code",
      "metadata": {
        "id": "i6amJSoUwLRL",
        "colab_type": "code",
        "outputId": "16005f9d-fce3-4632-b5f6-70c775a27e9d",
        "colab": {
          "base_uri": "https://localhost:8080/",
          "height": 0
        }
      },
      "source": [
        "plt.plot(5,5,\"o\")"
      ],
      "execution_count": 8,
      "outputs": [
        {
          "output_type": "execute_result",
          "data": {
            "text/plain": [
              "[<matplotlib.lines.Line2D at 0x7fe29d47a470>]"
            ]
          },
          "metadata": {
            "tags": []
          },
          "execution_count": 8
        },
        {
          "output_type": "display_data",
          "data": {
            "image/png": "[encoded data removed]",
            "text/plain": [
              "<Figure size 432x288 with 1 Axes>"
            ]
          },
          "metadata": {
            "tags": [],
            "needs_background": "light"
          }
        }
      ]
    },
    {
      "cell_type": "markdown",
      "metadata": {
        "id": "qy1YZzK4y7YZ",
        "colab_type": "text"
      },
      "source": [
        "Awesome! At this point you may wonder how you are supposed to know which potential parameters you can enter into a basic plot. This is where documentation comes in. Simply type in `plt.plot?` and you will get a list of all possible operations of the respective method."
      ]
    },
    {
      "cell_type": "code",
      "metadata": {
        "id": "ruqVeHVfuqgg",
        "colab_type": "code",
        "colab": {}
      },
      "source": [
        "plt.plot?"
      ],
      "execution_count": 0,
      "outputs": []
    },
    {
      "cell_type": "markdown",
      "metadata": {
        "id": "IEhQMnn-zfap",
        "colab_type": "text"
      },
      "source": [
        "As you can see, there are countless possible options to choose from. This is actually one of the main issues with matplotlib. Due to its huge flexibility, countless options of working with the library exist - this, unfortunately, may become confusing. <br><br> However, **noone expects you to know this stuff by heart**. For working with matplotlib, Googling and looking at the documentation is key - even the pros do it all the time."
      ]
    },
    {
      "cell_type": "markdown",
      "metadata": {
        "id": "mtlR_--J20V3",
        "colab_type": "text"
      },
      "source": [
        "### Bacic Plot - Figures and Axes"
      ]
    },
    {
      "cell_type": "markdown",
      "metadata": {
        "id": "Puv4ZQRyuErj",
        "colab_type": "text"
      },
      "source": [
        "While the `.plot()` option (as shown in the lecture), is a very straight forward approach to creating a simple graph - we often use `figures` and `axes` instead.\n",
        "In their simplest form, a figure and axes can be created as follows:"
      ]
    },
    {
      "cell_type": "code",
      "metadata": {
        "id": "SIoZjhXluErk",
        "colab_type": "code",
        "outputId": "cfbacbec-1b4d-4420-df09-dc439e34ba06",
        "colab": {
          "base_uri": "https://localhost:8080/",
          "height": 0
        }
      },
      "source": [
        "fig = plt.figure()\n",
        "ax = plt.axes()"
      ],
      "execution_count": 10,
      "outputs": [
        {
          "output_type": "display_data",
          "data": {
            "image/png": "[encoded data removed]",
            "text/plain": [
              "<Figure size 432x288 with 1 Axes>"
            ]
          },
          "metadata": {
            "tags": [],
            "needs_background": "light"
          }
        }
      ]
    },
    {
      "cell_type": "markdown",
      "metadata": {
        "id": "jqMQOBXquErn",
        "colab_type": "text"
      },
      "source": [
        "In Matplotlib, the *figure* (an instance of the class ``plt.Figure``) can be thought of as a single container that contains all the objects representing axes, graphics, text, and labels.\n",
        "The *axes* (an instance of the class ``plt.Axes``) is what we see above: a bounding box with ticks and labels, which will eventually contain the plot elements that make up our visualization.\n",
        "\n",
        "Once we have created an axes, we can use the ``ax.plot`` function to plot some data. Let's plot the same graph again."
      ]
    },
    {
      "cell_type": "code",
      "metadata": {
        "id": "SAyt-MOc3x6q",
        "colab_type": "code",
        "outputId": "4a18ea7b-bb91-4cb9-d5b4-1435e4192ddd",
        "colab": {
          "base_uri": "https://localhost:8080/",
          "height": 0
        }
      },
      "source": [
        "fig = plt.figure()\n",
        "ax = plt.axes()\n",
        "ax.plot(5,5, \"o\")"
      ],
      "execution_count": 11,
      "outputs": [
        {
          "output_type": "execute_result",
          "data": {
            "text/plain": [
              "[<matplotlib.lines.Line2D at 0x7fe29d407be0>]"
            ]
          },
          "metadata": {
            "tags": []
          },
          "execution_count": 11
        },
        {
          "output_type": "display_data",
          "data": {
            "image/png": "[encoded data removed]",
            "text/plain": [
              "<Figure size 432x288 with 1 Axes>"
            ]
          },
          "metadata": {
            "tags": [],
            "needs_background": "light"
          }
        }
      ]
    },
    {
      "cell_type": "markdown",
      "metadata": {
        "id": "wpXGMmjLuErr",
        "colab_type": "text"
      },
      "source": [
        "Summing up, we can either use the combination of `plt.figure `and `plt.axes` to plot a graph or use `plt.plot` and let the figure and axes be created for us in the background\n",
        "(see [Two Interfaces for the Price of One](04.00-Introduction-To-Matplotlib.ipynb#Two-Interfaces-for-the-Price-of-One) for a discussion of these two alternatives)."
      ]
    },
    {
      "cell_type": "markdown",
      "metadata": {
        "id": "NSu9-0jsBTuA",
        "colab_type": "text"
      },
      "source": [
        "### Basic Plot - Get Current Axes"
      ]
    },
    {
      "cell_type": "markdown",
      "metadata": {
        "id": "vcHpdIlNBZC5",
        "colab_type": "text"
      },
      "source": [
        "A third alternative to creating plots is by using the `.gca` (= get current axes) parameter. As stated by its name, this method gets the current Axes instance of the current figure and allows us to store them in a variable. <br><br> This makes our code much cleaner and allows us to apply further operations on our plot. One common addition to the .gca operator, is the use of the .axis() operator, which allows us to change the properties of the axes we just \"got\". .axis() allows us to specify the minimum and maximum x & y values of our respective graph. Let's look at an example:"
      ]
    },
    {
      "cell_type": "code",
      "metadata": {
        "id": "xdx4iuVfCHP9",
        "colab_type": "code",
        "outputId": "1a67c05b-7c3d-4fd0-fc3f-f45fad7ef2a7",
        "colab": {
          "base_uri": "https://localhost:8080/",
          "height": 0
        }
      },
      "source": [
        "plt.figure()\n",
        "# plot the point (3,2) using the circle marker\n",
        "plt.plot(3, 2, 'o')\n",
        "# get the current axes (we store our plot in the variable \"ax\")\n",
        "ax = plt.gca()\n",
        "# Show our plot\n",
        "ax"
      ],
      "execution_count": 12,
      "outputs": [
        {
          "output_type": "execute_result",
          "data": {
            "text/plain": [
              "<matplotlib.axes._subplots.AxesSubplot at 0x7fe29d37e6d8>"
            ]
          },
          "metadata": {
            "tags": []
          },
          "execution_count": 12
        },
        {
          "output_type": "display_data",
          "data": {
            "image/png": "[encoded data removed]",
            "text/plain": [
              "<Figure size 432x288 with 1 Axes>"
            ]
          },
          "metadata": {
            "tags": [],
            "needs_background": "light"
          }
        }
      ]
    },
    {
      "cell_type": "markdown",
      "metadata": {
        "id": "8YbUGQ8hGRpl",
        "colab_type": "text"
      },
      "source": [
        "So far so good. Let's now use .axis() to change the shown axis to our liking."
      ]
    },
    {
      "cell_type": "code",
      "metadata": {
        "id": "HFekii0WF719",
        "colab_type": "code",
        "outputId": "0191f46f-62b6-4a34-ebda-d846070a5720",
        "colab": {
          "base_uri": "https://localhost:8080/",
          "height": 0
        }
      },
      "source": [
        "# plot the point (3,2) using the circle marker\n",
        "plt.plot(3, 2, 'o')\n",
        "# get the current axes (we store our plot in the variable \"ax\")\n",
        "ax = plt.gca()\n",
        "# Set axis properties [xmin, xmax, ymin, ymax] of our plot (which is stored in \"ax\")\n",
        "ax.axis([0,6,0,10])"
      ],
      "execution_count": 13,
      "outputs": [
        {
          "output_type": "execute_result",
          "data": {
            "text/plain": [
              "(0.0, 6.0, 0.0, 10.0)"
            ]
          },
          "metadata": {
            "tags": []
          },
          "execution_count": 13
        },
        {
          "output_type": "display_data",
          "data": {
            "image/png": "[encoded data removed]",
            "text/plain": [
              "<Figure size 432x288 with 1 Axes>"
            ]
          },
          "metadata": {
            "tags": [],
            "needs_background": "light"
          }
        }
      ]
    },
    {
      "cell_type": "markdown",
      "metadata": {
        "id": "2u9EGeOcGs7K",
        "colab_type": "text"
      },
      "source": [
        "**Exercise For You** <br>\n",
        "Look at the following code snippet and try to guess how the resulting plot may look. Then, copy the code, paste it in the empty cell below and check whether you were correct.\n",
        "\n",
        "\n",
        "\n",
        "```\n",
        "# plot the point (1.5, 1.5) using the circle marker\n",
        "plt.plot(1.5, 1.5, 'o')\n",
        "# plot the point (2, 2) using the circle marker\n",
        "plt.plot(2, 2, 'o')\n",
        "# plot the point (2.5, 2.5) using the circle marker\n",
        "plt.plot(2.5, 2.5, 'o')\n",
        "```\n",
        "\n"
      ]
    },
    {
      "cell_type": "code",
      "metadata": {
        "id": "UQUSn-JKHNe-",
        "colab_type": "code",
        "colab": {}
      },
      "source": [
        "# test your answer"
      ],
      "execution_count": 0,
      "outputs": []
    },
    {
      "cell_type": "markdown",
      "metadata": {
        "id": "YR0Ymovo47Dx",
        "colab_type": "text"
      },
      "source": [
        "## Short look at line graphs"
      ]
    },
    {
      "cell_type": "markdown",
      "metadata": {
        "id": "Io4ze6K75QTc",
        "colab_type": "text"
      },
      "source": [
        "In the lecture the following line graph is introduced."
      ]
    },
    {
      "cell_type": "code",
      "metadata": {
        "id": "TWvLpkGh14pe",
        "colab_type": "code",
        "outputId": "2d3a7644-06c4-449f-cf3a-b8d20a286d78",
        "colab": {
          "base_uri": "https://localhost:8080/",
          "height": 0
        }
      },
      "source": [
        "plt.plot([3, 5, 2], [2, 0, 8], \"^k:\")"
      ],
      "execution_count": 15,
      "outputs": [
        {
          "output_type": "execute_result",
          "data": {
            "text/plain": [
              "[<matplotlib.lines.Line2D at 0x7fe29d28f358>]"
            ]
          },
          "metadata": {
            "tags": []
          },
          "execution_count": 15
        },
        {
          "output_type": "display_data",
          "data": {
            "image/png": "[encoded data removed]",
            "text/plain": [
              "<Figure size 432x288 with 1 Axes>"
            ]
          },
          "metadata": {
            "tags": [],
            "needs_background": "light"
          }
        }
      ]
    },
    {
      "cell_type": "markdown",
      "metadata": {
        "id": "7RczFMa05VeT",
        "colab_type": "text"
      },
      "source": [
        "Let's explore what the individual components actually do:\n",
        "\n",
        "\n",
        "*   plt.plot() generates the basic graph as we have seen before.\n",
        "*   `[3,5,2]` represent the x-parameters whereas `[2,0,8]` represents the y-parameters of our graph. This leads to the following three x:y coordinates `3:2`, `5:0`, and `2:8`. The graph then draws a line between the points in the order they have been specified.\n",
        "*  `\"^k:\"` is again a format string (fmt), which consists of the following parts: `fmt = '[marker][line][color]'`. In our case the `\"^\"` stands for a triangle marker, the `\"k\"` specifies that the markers and their connecting lines are black and the `\":\"` transform the line into a dotted line.\n",
        "\n",
        "As we can see, documentation is key for understanding how plots work!\n",
        "\n",
        "\n",
        "\n"
      ]
    },
    {
      "cell_type": "markdown",
      "metadata": {
        "id": "s7Xy6k4EIC3r",
        "colab_type": "text"
      },
      "source": [
        "**Exercise For You** <br>\n",
        "Again try to guess which plot the following code returns. Use the empty cell below to verify your result.\n",
        "\n",
        "\n",
        "\n",
        "```\n",
        "plt.plot([2,3,4,5],[5,4,3,2], \"Dg-.\")\n",
        "```\n",
        "\n",
        "*Hint:* Use the documentation (plt.plot?) to find the meaning of the format string \"Dg-.\".\n",
        "\n"
      ]
    },
    {
      "cell_type": "code",
      "metadata": {
        "id": "yTF3TnGAJI53",
        "colab_type": "code",
        "colab": {}
      },
      "source": [
        "#run to access documentation\n",
        "plt.plot?"
      ],
      "execution_count": 0,
      "outputs": []
    },
    {
      "cell_type": "code",
      "metadata": {
        "id": "JYvdzCPzIOOR",
        "colab_type": "code",
        "colab": {}
      },
      "source": [
        "# test your answer"
      ],
      "execution_count": 0,
      "outputs": []
    },
    {
      "cell_type": "markdown",
      "metadata": {
        "id": "Fsfk4h9tHTWp",
        "colab_type": "text"
      },
      "source": [
        "## Scatter Plots"
      ]
    },
    {
      "cell_type": "markdown",
      "metadata": {
        "id": "LFMd9U-PHoTH",
        "colab_type": "text"
      },
      "source": [
        "Another commonly used plot type is the simple scatter plot, a close cousin of the line plot.\n",
        "Instead of points being joined by line segments, here the points are represented individually with a dot, circle, or other shape. The plot used in our iris dataset example above was a scatter plot."
      ]
    },
    {
      "cell_type": "markdown",
      "metadata": {
        "id": "bNFRACTlJ-MX",
        "colab_type": "text"
      },
      "source": [
        "### Scatter Plots using `plt.plot()`"
      ]
    },
    {
      "cell_type": "markdown",
      "metadata": {
        "id": "zg-FSHI4KE-N",
        "colab_type": "text"
      },
      "source": [
        "Technically we can use the standart .plot() operator in connection with the \"o\" format string (does not draw a line between points) to define a scatter plot. This would look as follows:"
      ]
    },
    {
      "cell_type": "code",
      "metadata": {
        "id": "NnWU1mPMKNdL",
        "colab_type": "code",
        "outputId": "b2fe874e-a279-4b8d-f0d7-5d774db66992",
        "colab": {
          "base_uri": "https://localhost:8080/",
          "height": 0
        }
      },
      "source": [
        "plt.plot([2,3,4,5],[5,4,3,2], \"o\")"
      ],
      "execution_count": 18,
      "outputs": [
        {
          "output_type": "execute_result",
          "data": {
            "text/plain": [
              "[<matplotlib.lines.Line2D at 0x7fe29d1fe2e8>]"
            ]
          },
          "metadata": {
            "tags": []
          },
          "execution_count": 18
        },
        {
          "output_type": "display_data",
          "data": {
            "image/png": "[encoded data removed]",
            "text/plain": [
              "<Figure size 432x288 with 1 Axes>"
            ]
          },
          "metadata": {
            "tags": [],
            "needs_background": "light"
          }
        }
      ]
    },
    {
      "cell_type": "markdown",
      "metadata": {
        "id": "0d2t2YFIKei_",
        "colab_type": "text"
      },
      "source": [
        "### Scatter Plots using `plt.scatter()`"
      ]
    },
    {
      "cell_type": "markdown",
      "metadata": {
        "id": "DT-q42ajKoHJ",
        "colab_type": "text"
      },
      "source": [
        "A second, more powerful method of creating scatter plots is the ``plt.scatter`` function, which can be used very similarly to the ``plt.plot`` function:\n"
      ]
    },
    {
      "cell_type": "code",
      "metadata": {
        "id": "BHc4eDK5KvOq",
        "colab_type": "code",
        "outputId": "ff6908aa-bea6-475f-a337-ba3e016a5b94",
        "colab": {
          "base_uri": "https://localhost:8080/",
          "height": 0
        }
      },
      "source": [
        "plt.scatter([2,3,4,5],[5,4,3,2])"
      ],
      "execution_count": 19,
      "outputs": [
        {
          "output_type": "execute_result",
          "data": {
            "text/plain": [
              "<matplotlib.collections.PathCollection at 0x7fe29d15e6d8>"
            ]
          },
          "metadata": {
            "tags": []
          },
          "execution_count": 19
        },
        {
          "output_type": "display_data",
          "data": {
            "image/png": "[encoded data removed]",
            "text/plain": [
              "<Figure size 432x288 with 1 Axes>"
            ]
          },
          "metadata": {
            "tags": [],
            "needs_background": "light"
          }
        }
      ]
    },
    {
      "cell_type": "markdown",
      "metadata": {
        "id": "pw-6WLizHoTj",
        "colab_type": "text"
      },
      "source": [
        "The primary difference of ``plt.scatter`` from ``plt.plot`` is that it can be used to create scatter plots where the properties of each individual point (size, face color, edge color, etc.) can be individually controlled or mapped to data.\n",
        "\n",
        "Let's show this by creating a random scatter plot with points of many colors and sizes."
      ]
    },
    {
      "cell_type": "code",
      "metadata": {
        "id": "yhzq2clLLQpQ",
        "colab_type": "code",
        "outputId": "48cfb4e5-776f-41ce-bd18-d98dba5ea38e",
        "colab": {
          "base_uri": "https://localhost:8080/",
          "height": 0
        }
      },
      "source": [
        "x = [1,2,3,4,5,6,7,8,9]\n",
        "y= [1,2,3,4,5,4,3,2,1]\n",
        "\n",
        "colors = [\"green\", \"blue\", \"red\", \"yellow\", \"cyan\", \"black\", \"black\", \"white\", \"green\"]\n",
        "size = [100,150,200,250,300,250,200,150,100]\n",
        "\n",
        "# creates a plot with points at x:y coordinates that have size s and colors c\n",
        "plt.scatter(x, y, s=size, c=colors)"
      ],
      "execution_count": 20,
      "outputs": [
        {
          "output_type": "execute_result",
          "data": {
            "text/plain": [
              "<matplotlib.collections.PathCollection at 0x7fe29d150e48>"
            ]
          },
          "metadata": {
            "tags": []
          },
          "execution_count": 20
        },
        {
          "output_type": "display_data",
          "data": {
            "image/png": "[encoded data removed]",
            "text/plain": [
              "<Figure size 432x288 with 1 Axes>"
            ]
          },
          "metadata": {
            "tags": [],
            "needs_background": "light"
          }
        }
      ]
    },
    {
      "cell_type": "markdown",
      "metadata": {
        "id": "DkWMvM-rMbFl",
        "colab_type": "text"
      },
      "source": [
        "**Exercise For You**<br>\n",
        "Try to guess the output of the following code snippet.\n",
        "\n",
        "\n",
        "\n",
        "```\n",
        "x = [1,2,3,4,5,6,7,8]\n",
        "y = x\n",
        "\n",
        "colors = ['green']*(len(x)-1)\n",
        "colors.append('blue')\n",
        "\n",
        "plt.scatter(x, y, s=100, c=colors)\n",
        "```\n",
        "\n"
      ]
    },
    {
      "cell_type": "code",
      "metadata": {
        "id": "r3MUEJoRMnPM",
        "colab_type": "code",
        "colab": {}
      },
      "source": [
        "#Test your answer here"
      ],
      "execution_count": 0,
      "outputs": []
    },
    {
      "cell_type": "markdown",
      "metadata": {
        "id": "bPbw5rh_M8Q6",
        "colab_type": "text"
      },
      "source": [
        "**Exercise For You**<br>\n",
        "Try to guess the output of the following code snippet.\n",
        "\n",
        "```\n",
        "x = [1,2,3,4,5,6,7,8]\n",
        "y = x\n",
        "colors = [\"orange\" if x % 2 == 0 else \"black\" for x in range(len(x))]\n",
        "\n",
        "plt.scatter(x, y, s=100, c=colors)\n",
        "```\n",
        "\n"
      ]
    },
    {
      "cell_type": "code",
      "metadata": {
        "id": "yUZ0LlhjNCgT",
        "colab_type": "code",
        "colab": {}
      },
      "source": [
        "# Test your answer here"
      ],
      "execution_count": 0,
      "outputs": []
    },
    {
      "cell_type": "markdown",
      "metadata": {
        "id": "CGTEBWpxNW4-",
        "colab_type": "text"
      },
      "source": [
        "## Adding labels"
      ]
    },
    {
      "cell_type": "markdown",
      "metadata": {
        "id": "uxGd94BcNaLA",
        "colab_type": "text"
      },
      "source": [
        "To make your graph more meaningful, it is often necessary to add labels that describe what the hack is shown.<br><br> Adding labels is rather easy. For labels displayed at the x-axis just use `plt.xlabel`, for labels displayed at the y-axis use `plt.ylabels`. We can also give our plot a title using `plt.title`."
      ]
    },
    {
      "cell_type": "code",
      "metadata": {
        "id": "BzXsRvAyOYVn",
        "colab_type": "code",
        "outputId": "8b95cdd4-629a-4a50-d322-22d7e2384d28",
        "colab": {
          "base_uri": "https://localhost:8080/",
          "height": 0
        }
      },
      "source": [
        "#prepare some dummy data\n",
        "x = [1,2,3,4,5,6]\n",
        "y = x\n",
        "plt.scatter(x[:2], y[:2], s=100, c='red')\n",
        "plt.scatter(x[2:], y[2:], s=100, c='blue')\n",
        "\n",
        "\n",
        "# add a label to the x axis\n",
        "plt.xlabel('The number of times the student read this notebook')\n",
        "# add a label to the y axis\n",
        "plt.ylabel('The grade of the student')\n",
        "# add a title\n",
        "plt.title('Relationship between excercise and grades')"
      ],
      "execution_count": 23,
      "outputs": [
        {
          "output_type": "execute_result",
          "data": {
            "text/plain": [
              "Text(0.5, 1.0, 'Relationship between excercise and grades')"
            ]
          },
          "metadata": {
            "tags": []
          },
          "execution_count": 23
        },
        {
          "output_type": "display_data",
          "data": {
            "image/png": "[encoded data removed]",
            "text/plain": [
              "<Figure size 432x288 with 1 Axes>"
            ]
          },
          "metadata": {
            "tags": [],
            "needs_background": "light"
          }
        }
      ]
    },
    {
      "cell_type": "markdown",
      "metadata": {
        "id": "_gg77uXWPTsY",
        "colab_type": "text"
      },
      "source": [
        "You can furthermore use the argument labelpad (for ylabel/xlabel) or pad (for title) to determine the distance between the label and our graph."
      ]
    },
    {
      "cell_type": "code",
      "metadata": {
        "id": "h6tWmQAtPkOo",
        "colab_type": "code",
        "outputId": "336fba5e-03cf-4c78-acea-75ca39a23b35",
        "colab": {
          "base_uri": "https://localhost:8080/",
          "height": 0
        }
      },
      "source": [
        "#prepare some dummy data\n",
        "x = [1,2,3,4,5,6]\n",
        "y = x\n",
        "plt.scatter(x[:2], y[:2], s=100, c='red')\n",
        "plt.scatter(x[2:], y[2:], s=100, c='blue')\n",
        "\n",
        "\n",
        "# add labelpad \n",
        "plt.xlabel('The number of times the student read this notebook', labelpad=10 )\n",
        "# we can also enter negative values for labelpad\n",
        "plt.ylabel('The grade of the student', labelpad=-35)\n",
        "# add a title\n",
        "plt.title('Relationship between excercise and grades', pad=10)"
      ],
      "execution_count": 24,
      "outputs": [
        {
          "output_type": "execute_result",
          "data": {
            "text/plain": [
              "Text(0.5, 1.0, 'Relationship between excercise and grades')"
            ]
          },
          "metadata": {
            "tags": []
          },
          "execution_count": 24
        },
        {
          "output_type": "display_data",
          "data": {
            "image/png": "[encoded data removed]",
            "text/plain": [
              "<Figure size 432x288 with 1 Axes>"
            ]
          },
          "metadata": {
            "tags": [],
            "needs_background": "light"
          }
        }
      ]
    },
    {
      "cell_type": "markdown",
      "metadata": {
        "id": "l86mnRxuQZjc",
        "colab_type": "text"
      },
      "source": [
        "## Adding a legend"
      ]
    },
    {
      "cell_type": "markdown",
      "metadata": {
        "id": "4VHlOpZXQdcO",
        "colab_type": "text"
      },
      "source": [
        "While our graph looks better now, the difference between red and blue points seem to be unclear. Additional information like this can be displayed using a legend. We can add the legend elements using the \"`label`\" parameter within the scatter plot. After this we also have to call the legend using `plt.legend()`"
      ]
    },
    {
      "cell_type": "code",
      "metadata": {
        "id": "CDXM4IhBRDYX",
        "colab_type": "code",
        "outputId": "8c4ffe23-59a8-408c-d716-28f784f9586b",
        "colab": {
          "base_uri": "https://localhost:8080/",
          "height": 0
        }
      },
      "source": [
        "x = [1,2,3,4,5,6]\n",
        "y = x\n",
        "plt.scatter(x[:2], y[:2], s=100, c='red', label= \"Group A\")\n",
        "plt.scatter(x[2:], y[2:], s=100, c='blue',label = \"Group B\" )\n",
        "\n",
        "\n",
        "# add a label to the x axis\n",
        "plt.xlabel('The number of times the student read this notebook')\n",
        "# add a label to the y axis\n",
        "plt.ylabel('The grade of the student')\n",
        "# add a title\n",
        "plt.title('Relationship between excercise and grades')\n",
        "plt.legend()"
      ],
      "execution_count": 25,
      "outputs": [
        {
          "output_type": "execute_result",
          "data": {
            "text/plain": [
              "<matplotlib.legend.Legend at 0x7fe29d001390>"
            ]
          },
          "metadata": {
            "tags": []
          },
          "execution_count": 25
        },
        {
          "output_type": "display_data",
          "data": {
            "image/png": "[encoded data removed]",
            "text/plain": [
              "<Figure size 432x288 with 1 Axes>"
            ]
          },
          "metadata": {
            "tags": [],
            "needs_background": "light"
          }
        }
      ]
    },
    {
      "cell_type": "markdown",
      "metadata": {
        "id": "5J3QvItJRihD",
        "colab_type": "text"
      },
      "source": [
        "Better, but not quite there yet. Let's customize our legend as follows:"
      ]
    },
    {
      "cell_type": "code",
      "metadata": {
        "id": "wcrSMdOrRoz_",
        "colab_type": "code",
        "outputId": "a84d866e-996c-4a22-fd8c-ed365c109b31",
        "colab": {
          "base_uri": "https://localhost:8080/",
          "height": 0
        }
      },
      "source": [
        "x = [1,2,3,4,5,6]\n",
        "y = x\n",
        "plt.scatter(x[:2], y[:2], s=100, c='red', label= \"Group A\")\n",
        "plt.scatter(x[2:], y[2:], s=100, c='blue',label = \"Group B\" )\n",
        "\n",
        "\n",
        "# add a label to the x axis\n",
        "plt.xlabel('The number of times the student read this notebook')\n",
        "# add a label to the y axis\n",
        "plt.ylabel('The grade of the student')\n",
        "# add a title\n",
        "plt.title('Relationship between excercise and grades')\n",
        "plt.legend(loc=\"upper left\", frameon=True, title='Legend')"
      ],
      "execution_count": 26,
      "outputs": [
        {
          "output_type": "execute_result",
          "data": {
            "text/plain": [
              "<matplotlib.legend.Legend at 0x7fe2a02939e8>"
            ]
          },
          "metadata": {
            "tags": []
          },
          "execution_count": 26
        },
        {
          "output_type": "display_data",
          "data": {
            "image/png": "[encoded data removed]",
            "text/plain": [
              "<Figure size 432x288 with 1 Axes>"
            ]
          },
          "metadata": {
            "tags": [],
            "needs_background": "light"
          }
        }
      ]
    },
    {
      "cell_type": "code",
      "metadata": {
        "id": "ImqOW1pISSZz",
        "colab_type": "code",
        "colab": {}
      },
      "source": [
        "#feel free to check the documentation to see which further parameters for our legend exist\n",
        "plt.legend?"
      ],
      "execution_count": 0,
      "outputs": []
    },
    {
      "cell_type": "markdown",
      "metadata": {
        "id": "RwZGibx7SmWi",
        "colab_type": "text"
      },
      "source": [
        "## Line Plot with multiple lines"
      ]
    },
    {
      "cell_type": "markdown",
      "metadata": {
        "id": "bW2VozgrTXOz",
        "colab_type": "text"
      },
      "source": [
        "There are various ways to plot multiple sets of data. The plt.plot() documentation gives us the following three possibilities:\n",
        "\n",
        "- The most straight forward way is just to call `plot` multiple times.  \n",
        "  Example:  \n",
        "\n",
        "      plot(x1, y1, 'bo')  \n",
        "      plot(x2, y2, 'go')  \n",
        "\n",
        "- Alternatively, if your data is already a 2d array, you can pass it  \n",
        "  directly to *x*, *y*. A separate data set will be drawn for every  \n",
        "  column.  \n",
        "\n",
        "  Example: an array `a` where the first column represents the *x*  \n",
        "  values and the other columns are the *y* columns::  \n",
        "\n",
        "      plot(a[0], a[1:])  \n",
        "\n",
        "- The third way is to specify multiple sets of *[x]*, *y*, *[fmt]*  \n",
        "  groups::  \n",
        "\n",
        "      plot(x1, y1, 'g^', x2, y2, 'g-')  \n",
        "\n",
        "Let's look at an example of how the third way would look like:"
      ]
    },
    {
      "cell_type": "code",
      "metadata": {
        "id": "jZgikLdES6Ku",
        "colab_type": "code",
        "outputId": "372a00d0-531b-454b-9e71-f33610e943f0",
        "colab": {
          "base_uri": "https://localhost:8080/",
          "height": 0
        }
      },
      "source": [
        "linear_data = [1,2,3,4,5,6,7,8]\n",
        "exponential_data = [ x**2 for x in linear_data ]\n",
        "# plot the linear data and the exponential data\n",
        "plt.plot(linear_data, 'm-o', exponential_data, '-v',)\n",
        "plt.show()"
      ],
      "execution_count": 28,
      "outputs": [
        {
          "output_type": "display_data",
          "data": {
            "image/png": "[encoded data removed]",
            "text/plain": [
              "<Figure size 432x288 with 1 Axes>"
            ]
          },
          "metadata": {
            "tags": [],
            "needs_background": "light"
          }
        }
      ]
    },
    {
      "cell_type": "markdown",
      "metadata": {
        "id": "FTRuvuIMT2GO",
        "colab_type": "text"
      },
      "source": [
        "### Filling Area between lines"
      ]
    },
    {
      "cell_type": "markdown",
      "metadata": {
        "id": "qBeaw8QhUDbD",
        "colab_type": "text"
      },
      "source": [
        "Using the operator `plt.fill_between` we can fill the area between two horizontal curves.\n",
        "\n",
        "The curves are defined by the points (*x*, *y1*) and (*x*, *y2*). This\n",
        "creates one or multiple polygons describing the filled area. Common parameters used with this operation are:\n",
        "\n",
        "\n",
        "*   x = The first argument needs to\n",
        "be an iterable of the\n",
        "x-coordinates\n",
        "* y1 = The y coordinates of the nodes defining the first curve.\n",
        "* y2 = The y coordinates of the nodes defining the second curve.\n",
        "* where = Define *where* to exclude some horizontal regions from being\n",
        "    filled.\n",
        "* facecolor = colour of filled area\n",
        "\n"
      ]
    },
    {
      "cell_type": "code",
      "metadata": {
        "id": "DNHCXp8XUDpQ",
        "colab_type": "code",
        "colab": {}
      },
      "source": [
        "# for more info check out:\n",
        "plt.fill_between?"
      ],
      "execution_count": 0,
      "outputs": []
    },
    {
      "cell_type": "code",
      "metadata": {
        "id": "uO5UikaqT1pF",
        "colab_type": "code",
        "outputId": "46ecdc40-ee2c-4297-8dd0-278c485380ea",
        "colab": {
          "base_uri": "https://localhost:8080/",
          "height": 0
        }
      },
      "source": [
        "# let's fill the area between our two curves from above\n",
        "linear_data = [1,2,3,4,5,6,7,8]\n",
        "exponential_data = [ x**2 for x in linear_data ]\n",
        "# plot the linear data and the exponential data\n",
        "plt.plot(linear_data, 'm-o', exponential_data, '-v')\n",
        "\n",
        "\n",
        "plt.fill_between(x = range(len(linear_data)),\n",
        "                 y1=linear_data, \n",
        "                 y2=exponential_data,\n",
        "                 facecolor='blue',\n",
        "                 alpha=0.25)"
      ],
      "execution_count": 30,
      "outputs": [
        {
          "output_type": "execute_result",
          "data": {
            "text/plain": [
              "<matplotlib.collections.PolyCollection at 0x7fe29d373198>"
            ]
          },
          "metadata": {
            "tags": []
          },
          "execution_count": 30
        },
        {
          "output_type": "display_data",
          "data": {
            "image/png": "[encoded data removed]",
            "text/plain": [
              "<Figure size 432x288 with 1 Axes>"
            ]
          },
          "metadata": {
            "tags": [],
            "needs_background": "light"
          }
        }
      ]
    },
    {
      "cell_type": "markdown",
      "metadata": {
        "id": "QtBXOI00WH61",
        "colab_type": "text"
      },
      "source": [
        "**Exercise For You**<br>\n",
        "Try to guess the output of the following code snippet.\n",
        "\n",
        "\n",
        "\n",
        "```\n",
        "linear_data = [1,2,3,4,5,6,7,8]\n",
        "exponential_data = [ x**2 for x in linear_data ]\n",
        "plt.plot(linear_data, 'm-o', exponential_data, '-v')\n",
        "\n",
        "plt.fill_between(range(len(linear_data)), [4, 14, 4, 14, 4, 14, 4, 14], \n",
        "[40, 30, 40, 30, 40, 30, 40, 30],\n",
        "facecolor='blue', alpha=0.25)\n",
        "```\n",
        "\n"
      ]
    },
    {
      "cell_type": "markdown",
      "metadata": {
        "id": "MOmBy_AZXrrw",
        "colab_type": "text"
      },
      "source": [
        "### Line Plots with Dates"
      ]
    },
    {
      "cell_type": "markdown",
      "metadata": {
        "id": "QePZ6xxXXue4",
        "colab_type": "text"
      },
      "source": [
        "Setting the used datatype to `datetime64[D]` returns dates. We can then extract the exact time points between two dates using np.arrange(). This looks as follows:\n"
      ]
    },
    {
      "cell_type": "code",
      "metadata": {
        "id": "zXBLbVfOYGbL",
        "colab_type": "code",
        "outputId": "c744e50f-6df5-4125-8c84-1042e7bf4919",
        "colab": {
          "base_uri": "https://localhost:8080/",
          "height": 0
        }
      },
      "source": [
        "linear_data = [1,2,3,4]\n",
        "exponential_data = [ x**2 for x in linear_data ]\n",
        "observation_dates = np.arange('2020-04-27',\n",
        "                              '2020-05-01',\n",
        "                              dtype='datetime64[D]')\n",
        "\n",
        "plt.plot(observation_dates, linear_data, '-o', observation_dates, exponential_data, '-o')\n"
      ],
      "execution_count": 31,
      "outputs": [
        {
          "output_type": "execute_result",
          "data": {
            "text/plain": [
              "[<matplotlib.lines.Line2D at 0x7fe29d4f2588>,\n",
              " <matplotlib.lines.Line2D at 0x7fe29cf2ee80>]"
            ]
          },
          "metadata": {
            "tags": []
          },
          "execution_count": 31
        },
        {
          "output_type": "display_data",
          "data": {
            "image/png": "[encoded data removed]",
            "text/plain": [
              "<Figure size 432x288 with 1 Axes>"
            ]
          },
          "metadata": {
            "tags": [],
            "needs_background": "light"
          }
        }
      ]
    },
    {
      "cell_type": "markdown",
      "metadata": {
        "id": "uV4b-vSeWuid",
        "colab_type": "text"
      },
      "source": [
        "### Label Rotation"
      ]
    },
    {
      "cell_type": "markdown",
      "metadata": {
        "id": "PIgoUc6BXPce",
        "colab_type": "text"
      },
      "source": [
        "As we can see the labels on the x-axis (so called ticks) are now rather cramped.Let's see how we can manually change this by slightly rotating the x-axis ticks.<br><br>\n",
        "In a first step we must get the current axes of our plot using `.gca()`. From these axes we are only interested in the ticks on the x-axis. Therefore, we save the x-axis via `.xaxis()`. From this axis we then get each individual tick label and rotate it by 45 degrees."
      ]
    },
    {
      "cell_type": "code",
      "metadata": {
        "id": "tGcRcb47Y33e",
        "colab_type": "code",
        "outputId": "9a1a7100-19f9-48c9-916c-cfd0e2d83ddc",
        "colab": {
          "base_uri": "https://localhost:8080/",
          "height": 0
        }
      },
      "source": [
        "plt.plot(observation_dates, linear_data, '-o', observation_dates, exponential_data, '-o')\n",
        "x = plt.gca().xaxis\n",
        "# rotate the tick labels for the x axis\n",
        "for item in x.get_ticklabels():\n",
        "  item.set_rotation(45)"
      ],
      "execution_count": 32,
      "outputs": [
        {
          "output_type": "display_data",
          "data": {
            "image/png": "[encoded data removed]",
            "text/plain": [
              "<Figure size 432x288 with 1 Axes>"
            ]
          },
          "metadata": {
            "tags": [],
            "needs_background": "light"
          }
        }
      ]
    },
    {
      "cell_type": "markdown",
      "metadata": {
        "id": "tMgryOBSZlDn",
        "colab_type": "text"
      },
      "source": [
        "## Bar Charts"
      ]
    },
    {
      "cell_type": "markdown",
      "metadata": {
        "id": "Vyf3F4bCZsDM",
        "colab_type": "text"
      },
      "source": [
        "Next to line and scatter plots, bar charts are a great way of visualizing information. A bar chart is created using `plt.bar()`. The bars are positioned at *x* with the given *align*\\ment. Their\n",
        "dimensions are given by *width* and *height*. The vertical baseline\n",
        "is *bottom* (default 0)."
      ]
    },
    {
      "cell_type": "code",
      "metadata": {
        "id": "f0ARagHEZ1yN",
        "colab_type": "code",
        "outputId": "ec1033c9-cb70-4661-eae7-38f503b28bf4",
        "colab": {
          "base_uri": "https://localhost:8080/",
          "height": 0
        }
      },
      "source": [
        "data = [1,2,3,4]\n",
        "xvalues = range(len(data))\n",
        "plt.bar(x= xvalues, \n",
        "        height= data, \n",
        "        width = -0.3, \n",
        "        bottom= 1, \n",
        "        align=\"edge\")"
      ],
      "execution_count": 33,
      "outputs": [
        {
          "output_type": "execute_result",
          "data": {
            "text/plain": [
              "<BarContainer object of 4 artists>"
            ]
          },
          "metadata": {
            "tags": []
          },
          "execution_count": 33
        },
        {
          "output_type": "display_data",
          "data": {
            "image/png": "[encoded data removed]",
            "text/plain": [
              "<Figure size 432x288 with 1 Axes>"
            ]
          },
          "metadata": {
            "tags": [],
            "needs_background": "light"
          }
        }
      ]
    },
    {
      "cell_type": "code",
      "metadata": {
        "id": "Je9jMrsqaxW9",
        "colab_type": "code",
        "colab": {}
      },
      "source": [
        "# once again, the documentation lists several possible parameter combinations\n",
        "plt.bar?"
      ],
      "execution_count": 0,
      "outputs": []
    },
    {
      "cell_type": "markdown",
      "metadata": {
        "id": "FFpbAhwQbUMG",
        "colab_type": "text"
      },
      "source": [
        "### Bar Chart with multiple bars"
      ]
    },
    {
      "cell_type": "markdown",
      "metadata": {
        "id": "iGH4AqrxbXJ2",
        "colab_type": "text"
      },
      "source": [
        "Obviously we can also plot several different bars within one bar chart. This is a great tool for visualizing some sort of comparison. <br><br>\n",
        "To make this work, we simply plot two sets of bar charts but add the width of the first bar chart to the x-value of the second bar chart. This way both bar charts are directly next to each other."
      ]
    },
    {
      "cell_type": "code",
      "metadata": {
        "id": "qjzC7Mo5bDPO",
        "colab_type": "code",
        "outputId": "54e27f54-037e-4093-a4fe-e9c09323e559",
        "colab": {
          "base_uri": "https://localhost:8080/",
          "height": 0
        }
      },
      "source": [
        "linear_data = [1,2,3,4]\n",
        "exponential_data = [ x**2 for x in linear_data ]\n",
        "\n",
        "xvals = range(len(linear_data))\n",
        "\n",
        "plt.bar(xvals, linear_data, width = 0.3)\n",
        "\n",
        "# plot another set of bars, adjusting the new xvals to make up for thefirst set of bars plotted\n",
        "new_xvals = []\n",
        "for item in xvals:\n",
        "  new_xvals.append(item+0.3)\n",
        "\n",
        "plt.bar(new_xvals, exponential_data, width = 0.3 ,color='red')"
      ],
      "execution_count": 35,
      "outputs": [
        {
          "output_type": "execute_result",
          "data": {
            "text/plain": [
              "<BarContainer object of 4 artists>"
            ]
          },
          "metadata": {
            "tags": []
          },
          "execution_count": 35
        },
        {
          "output_type": "display_data",
          "data": {
            "image/png": "[encoded data removed]",
            "text/plain": [
              "<Figure size 432x288 with 1 Axes>"
            ]
          },
          "metadata": {
            "tags": [],
            "needs_background": "light"
          }
        }
      ]
    },
    {
      "cell_type": "markdown",
      "metadata": {
        "id": "pzCUvHwUwO6U",
        "colab_type": "text"
      },
      "source": [
        "### Error Bar Charts"
      ]
    },
    {
      "cell_type": "markdown",
      "metadata": {
        "id": "yv_C0g0h4Uzn",
        "colab_type": "text"
      },
      "source": [
        ""
      ]
    },
    {
      "cell_type": "markdown",
      "metadata": {
        "id": "v8tqTbtk4NZF",
        "colab_type": "text"
      },
      "source": [
        "For any scientific measurement, accurate accounting for errors is nearly as important, if not more important, than accurate reporting of the number itself.\n",
        "For example, imagine that some study results in the following bar charts."
      ]
    },
    {
      "cell_type": "code",
      "metadata": {
        "id": "ZYUJAXO04gzQ",
        "colab_type": "code",
        "colab": {
          "base_uri": "https://localhost:8080/",
          "height": 0
        },
        "outputId": "0b58c747-4bd2-40d1-b625-7783785b92ba"
      },
      "source": [
        "\n",
        "linear_data = [1,2,3,4]\n",
        "xvals = range(len(linear_data))\n",
        "\n",
        "\n",
        "\n",
        "# This will plot a new set of bars with errorbars using the list of random error values\n",
        "plt.bar(xvals, linear_data, width = 0.3)"
      ],
      "execution_count": 36,
      "outputs": [
        {
          "output_type": "execute_result",
          "data": {
            "text/plain": [
              "<BarContainer object of 4 artists>"
            ]
          },
          "metadata": {
            "tags": []
          },
          "execution_count": 36
        },
        {
          "output_type": "display_data",
          "data": {
            "image/png": "[encoded data removed]",
            "text/plain": [
              "<Figure size 432x288 with 1 Axes>"
            ]
          },
          "metadata": {
            "tags": [],
            "needs_background": "light"
          }
        }
      ]
    },
    {
      "cell_type": "markdown",
      "metadata": {
        "id": "sQnPnwpa5m-2",
        "colab_type": "text"
      },
      "source": [
        "Now however, it could be the cas that there might be potential deviation between the results of our study and the findings of another study. This difference can then be plotted using the `yerr` parameter."
      ]
    },
    {
      "cell_type": "code",
      "metadata": {
        "id": "GPvqcNeI53S6",
        "colab_type": "code",
        "colab": {
          "base_uri": "https://localhost:8080/",
          "height": 0
        },
        "outputId": "2e32508d-a9ca-4fbc-ba4c-416761e57480"
      },
      "source": [
        "linear_data = [1,2,3,4]\n",
        "xvals = range(len(linear_data))\n",
        "\n",
        "# specify by which amount the data points may deviate\n",
        "linear_err = [5,2,10,6]\n",
        "\n",
        "# Plot a new set of bars with errorbars using the list of error values\n",
        "plt.bar(xvals, linear_data, width = 0.3, yerr=linear_err)"
      ],
      "execution_count": 37,
      "outputs": [
        {
          "output_type": "execute_result",
          "data": {
            "text/plain": [
              "<BarContainer object of 4 artists>"
            ]
          },
          "metadata": {
            "tags": []
          },
          "execution_count": 37
        },
        {
          "output_type": "display_data",
          "data": {
            "image/png": "[encoded data removed]",
            "text/plain": [
              "<Figure size 432x288 with 1 Axes>"
            ]
          },
          "metadata": {
            "tags": [],
            "needs_background": "light"
          }
        }
      ]
    },
    {
      "cell_type": "markdown",
      "metadata": {
        "id": "eYzJteKo6c7g",
        "colab_type": "text"
      },
      "source": [
        "### Stacked Bar Charts"
      ]
    },
    {
      "cell_type": "markdown",
      "metadata": {
        "id": "zO37wQJY6hKI",
        "colab_type": "text"
      },
      "source": [
        "In other cases, it might be useful to not visualize different bar types next to each other but stack them up. This can be done by plotting two `plt.bar()` and using the `bottom` parameter within the second bar chart to specify that the first bar chart shall be used as the \"ground\"."
      ]
    },
    {
      "cell_type": "code",
      "metadata": {
        "id": "a62j306O6uB0",
        "colab_type": "code",
        "colab": {
          "base_uri": "https://localhost:8080/",
          "height": 0
        },
        "outputId": "777c6f7a-6633-4644-b81e-1ff2d023af1c"
      },
      "source": [
        "linear_data = [1,2,3,4]\n",
        "exponential_data = [1,4,9,16]\n",
        "\n",
        "xvals = range(len(linear_data))\n",
        "\n",
        "# create normal bar chart with blue bars\n",
        "plt.bar(xvals, linear_data, width = 0.3, color='b')\n",
        "\n",
        "#create second bar chart with red bars, the linear data is specified as the new bottom\n",
        "plt.bar(xvals, exponential_data, width = 0.3, bottom=linear_data, color='r')"
      ],
      "execution_count": 38,
      "outputs": [
        {
          "output_type": "execute_result",
          "data": {
            "text/plain": [
              "<BarContainer object of 4 artists>"
            ]
          },
          "metadata": {
            "tags": []
          },
          "execution_count": 38
        },
        {
          "output_type": "display_data",
          "data": {
            "image/png": "[encoded data removed]",
            "text/plain": [
              "<Figure size 432x288 with 1 Axes>"
            ]
          },
          "metadata": {
            "tags": [],
            "needs_background": "light"
          }
        }
      ]
    },
    {
      "cell_type": "markdown",
      "metadata": {
        "id": "U6LZ0iO27YYc",
        "colab_type": "text"
      },
      "source": [
        "### Horizontal Bar Charts"
      ]
    },
    {
      "cell_type": "markdown",
      "metadata": {
        "id": "u-7z8kCq7fIB",
        "colab_type": "text"
      },
      "source": [
        "Of course, it is also possible to change the axis of the individual bar's root. To do so we merely change` plt.bar()` with `plt.barh()`"
      ]
    },
    {
      "cell_type": "code",
      "metadata": {
        "id": "bu1ZSfln7ttq",
        "colab_type": "code",
        "colab": {
          "base_uri": "https://localhost:8080/",
          "height": 0
        },
        "outputId": "0ef440ee-2b16-408e-fcd2-6ff890a26903"
      },
      "source": [
        "linear_data = [1,2,3,4]\n",
        "exponential_data = [ x**2 for x in linear_data]\n",
        "xvals = range(len(linear_data))\n",
        "\n",
        "#use plt.barh() instead of plt.bar()\n",
        "plt.barh(xvals, linear_data, height = 0.3, color='b')\n",
        "plt.barh(xvals, exponential_data, height = 0.3, left=linear_data,color='r')"
      ],
      "execution_count": 39,
      "outputs": [
        {
          "output_type": "execute_result",
          "data": {
            "text/plain": [
              "<BarContainer object of 4 artists>"
            ]
          },
          "metadata": {
            "tags": []
          },
          "execution_count": 39
        },
        {
          "output_type": "display_data",
          "data": {
            "image/png": "[encoded data removed]",
            "text/plain": [
              "<Figure size 432x288 with 1 Axes>"
            ]
          },
          "metadata": {
            "tags": [],
            "needs_background": "light"
          }
        }
      ]
    },
    {
      "cell_type": "markdown",
      "metadata": {
        "id": "UoYcZaSS75RB",
        "colab_type": "text"
      },
      "source": [
        "## Subplots"
      ]
    },
    {
      "cell_type": "markdown",
      "metadata": {
        "id": "TXvXXhDw8Gks",
        "colab_type": "text"
      },
      "source": [
        "So far, we have only ever printed one individual chart. Often, however, it is necessary to plot two or more graphs at the same time (for comparisons, etc.). This can be done by defining so called subplots within a plot. Each new subplot is initialized by the `plt.subplot()` operator. This operator takes three basic parameters:\n",
        "\n",
        "\n",
        "*   nrows: Number of rows we want our subplot to have\n",
        "*   ncols: number of columns we want our sublot to have\n",
        "* index: specifies the position of the plot. For 1 as the index the\n",
        "position is top left, and it increases from left to right\n",
        "\n"
      ]
    },
    {
      "cell_type": "code",
      "metadata": {
        "id": "WpATZWEe8lRK",
        "colab_type": "code",
        "colab": {
          "base_uri": "https://localhost:8080/",
          "height": 299
        },
        "outputId": "99c73bb1-4bb9-4745-c78d-4568af990e7d"
      },
      "source": [
        "#subplot 1\n",
        "plt.subplot(1, 2, 1)\n",
        "linear_data = [1,2,3,4,5,6,7,8]\n",
        "plt.plot(linear_data, '-o')\n",
        "plt.title(\"Linear Data\")\n",
        "exponential_data = [ x**2 for x in linear_data ]\n",
        "\n",
        "#subplot 2\n",
        "plt.subplot(1, 2, 2)\n",
        "plt.plot(exponential_data, '-o')\n",
        "plt.title(\"Exponential Data\")"
      ],
      "execution_count": 40,
      "outputs": [
        {
          "output_type": "execute_result",
          "data": {
            "text/plain": [
              "Text(0.5, 1.0, 'Exponential Data')"
            ]
          },
          "metadata": {
            "tags": []
          },
          "execution_count": 40
        },
        {
          "output_type": "display_data",
          "data": {
            "image/png": "[encoded data removed]",
            "text/plain": [
              "<Figure size 432x288 with 2 Axes>"
            ]
          },
          "metadata": {
            "tags": [],
            "needs_background": "light"
          }
        }
      ]
    },
    {
      "cell_type": "markdown",
      "metadata": {
        "id": "hass-rCD9p9k",
        "colab_type": "text"
      },
      "source": [
        "If we want to plot both graphs above each other, we just need to add a second row `plt.subplot(2, 2, 1)` and specify the index of the second subplot to be 3"
      ]
    },
    {
      "cell_type": "code",
      "metadata": {
        "id": "qprPPAp39gwC",
        "colab_type": "code",
        "colab": {
          "base_uri": "https://localhost:8080/",
          "height": 290
        },
        "outputId": "65043e73-e06a-44a9-9d5e-28d8520d3fc7"
      },
      "source": [
        "#subplot 1\n",
        "plt.subplot(2, 2, 1)\n",
        "linear_data = [1,2,3,4,5,6,7,8]\n",
        "plt.plot(linear_data, '-o')\n",
        "\n",
        "\n",
        "#subplot 2\n",
        "plt.subplot(2, 2, 3)\n",
        "plt.plot(exponential_data, '-o')\n"
      ],
      "execution_count": 41,
      "outputs": [
        {
          "output_type": "execute_result",
          "data": {
            "text/plain": [
              "[<matplotlib.lines.Line2D at 0x7fe29ca61400>]"
            ]
          },
          "metadata": {
            "tags": []
          },
          "execution_count": 41
        },
        {
          "output_type": "display_data",
          "data": {
            "image/png": "[encoded data removed]",
            "text/plain": [
              "<Figure size 432x288 with 2 Axes>"
            ]
          },
          "metadata": {
            "tags": [],
            "needs_background": "light"
          }
        }
      ]
    },
    {
      "cell_type": "markdown",
      "metadata": {
        "id": "dWh4ihPW-Mbx",
        "colab_type": "text"
      },
      "source": [
        "### Subplots with shared axes"
      ]
    },
    {
      "cell_type": "markdown",
      "metadata": {
        "id": "yNNTD7gC-POP",
        "colab_type": "text"
      },
      "source": [
        "In the example, both plots had different axes. The linear data ranges form 0-8 while the exponential data ranges from 0-70. However, visualizing two graphs with different axes next to each other may lead to confusion, which is why we need a way to assign the same axis to both of them.<br><br>\n",
        "To do so, we simply assign our `plt.subplot()` operators to variables `ax1` & `ax2`. We can then use the axis of the first subplot within the second subplot using the `sharey` parameter."
      ]
    },
    {
      "cell_type": "code",
      "metadata": {
        "id": "qcYCdVj5-kls",
        "colab_type": "code",
        "colab": {
          "base_uri": "https://localhost:8080/",
          "height": 290
        },
        "outputId": "d917826c-2fb4-4eb9-ad3b-4a5870fe52b8"
      },
      "source": [
        "linear_data = [1,2,3,4,5,6,7,8]\n",
        "exponential_data = [ x**2 for x in linear_data ]\n",
        "\n",
        "#create first subplot and assign it to ax1\n",
        "ax1 = plt.subplot(1, 2, 1)\n",
        "plt.plot(linear_data, '-o')\n",
        "\n",
        "# pass sharey=ax1 to ensure the two subplots share the same y axis\n",
        "ax2 = plt.subplot(1, 2, 2, sharey=ax1)\n",
        "plt.plot(exponential_data, '-x')"
      ],
      "execution_count": 42,
      "outputs": [
        {
          "output_type": "execute_result",
          "data": {
            "text/plain": [
              "[<matplotlib.lines.Line2D at 0x7fe29c9aec88>]"
            ]
          },
          "metadata": {
            "tags": []
          },
          "execution_count": 42
        },
        {
          "output_type": "display_data",
          "data": {
            "image/png": "[encoded data removed]",
            "text/plain": [
              "<Figure size 432x288 with 2 Axes>"
            ]
          },
          "metadata": {
            "tags": [],
            "needs_background": "light"
          }
        }
      ]
    },
    {
      "cell_type": "markdown",
      "metadata": {
        "id": "WKFR47Mg_aVK",
        "colab_type": "text"
      },
      "source": [
        "### Create 3x3 Plot"
      ]
    },
    {
      "cell_type": "markdown",
      "metadata": {
        "id": "1VUb5Zh8_c5l",
        "colab_type": "text"
      },
      "source": [
        "Okay, let's see how we can combine our knowledge of subplots to create a 3X3 matrix of individual plots. \n",
        "\n",
        "As we don't want to write plt.subplot() for every single of the subplot we can specify a subplot once, and assign the returned axes to variables. In our case we specify that our subplot should have 3 rows and 3 columns and should both share the y- as well as the x-axis."
      ]
    },
    {
      "cell_type": "code",
      "metadata": {
        "id": "UYUZTEJRAEJY",
        "colab_type": "code",
        "colab": {}
      },
      "source": [
        "#in order to understand the next code snippet it might be useful to have a look at the documentation\n",
        "# We can see that plt.subplot returns the axes of the subplot which are specified as fig, (axes)\n",
        "plt.subplot?"
      ],
      "execution_count": 0,
      "outputs": []
    },
    {
      "cell_type": "code",
      "metadata": {
        "id": "SO27Sa9j_Q0q",
        "colab_type": "code",
        "colab": {
          "base_uri": "https://localhost:8080/",
          "height": 290
        },
        "outputId": "d91e7f1c-2944-429b-f92a-43fd43feda89"
      },
      "source": [
        "linear_data = [1,2,3,4,5,6,7,8]\n",
        "# create a 3x3 grid of subplots\n",
        "fig, ((ax1,ax2,ax3), (ax4,ax5,ax6), (ax7,ax8,ax9)) = plt.subplots(3,3, sharex=True, sharey=True)\n",
        "# plot the linear_data on the 5th subplot axes\n",
        "ax5.plot(linear_data, '-')"
      ],
      "execution_count": 44,
      "outputs": [
        {
          "output_type": "execute_result",
          "data": {
            "text/plain": [
              "[<matplotlib.lines.Line2D at 0x7fe29c965e80>]"
            ]
          },
          "metadata": {
            "tags": []
          },
          "execution_count": 44
        },
        {
          "output_type": "display_data",
          "data": {
            "image/png": "[encoded data removed]",
            "text/plain": [
              "<Figure size 432x288 with 9 Axes>"
            ]
          },
          "metadata": {
            "tags": [],
            "needs_background": "light"
          }
        }
      ]
    },
    {
      "cell_type": "code",
      "metadata": {
        "id": "uW2z3S5sAjDi",
        "colab_type": "code",
        "colab": {}
      },
      "source": [
        "# Task: Use this code-block to create a 4x4 subplot in which the diagonals are filled with a line"
      ],
      "execution_count": 0,
      "outputs": []
    },
    {
      "cell_type": "markdown",
      "metadata": {
        "id": "Xh3nL_U8Awvk",
        "colab_type": "text"
      },
      "source": [
        "## Histograms"
      ]
    },
    {
      "cell_type": "markdown",
      "metadata": {
        "id": "IbsG-GZMBGiV",
        "colab_type": "text"
      },
      "source": [
        "Matplotlib histogram is used to visualize the frequency distribution of a numeric array by splitting it to small equal-sized bins."
      ]
    },
    {
      "cell_type": "markdown",
      "metadata": {
        "id": "0Mo1mhdLB1kE",
        "colab_type": "text"
      },
      "source": [
        "The pyplot.hist() in matplotlib lets you draw the histogram. It requires an array as the required input and you can specify the number of bins needed. Here the bins represent the individual \"lines\" in an histogram that map the distribution of the data."
      ]
    },
    {
      "cell_type": "code",
      "metadata": {
        "id": "xUBS7aiwB7q3",
        "colab_type": "code",
        "colab": {
          "base_uri": "https://localhost:8080/",
          "height": 299
        },
        "outputId": "560e2359-0517-424c-d62b-386dc7b68632"
      },
      "source": [
        "# create some normally distributed input data x of size 1000\n",
        "x = np.random.normal(size = 1000)\n",
        "\n",
        "# plot the normal distribution using 50 lines (bins)\n",
        "plt.hist(x, bins=50)\n",
        "plt.gca().set(title='Frequency Histogram', ylabel='Frequency')"
      ],
      "execution_count": 46,
      "outputs": [
        {
          "output_type": "execute_result",
          "data": {
            "text/plain": [
              "[Text(0, 0.5, 'Frequency'), Text(0.5, 1.0, 'Frequency Histogram')]"
            ]
          },
          "metadata": {
            "tags": []
          },
          "execution_count": 46
        },
        {
          "output_type": "display_data",
          "data": {
            "image/png": "[encoded data removed]",
            "text/plain": [
              "<Figure size 432x288 with 1 Axes>"
            ]
          },
          "metadata": {
            "tags": [],
            "needs_background": "light"
          }
        }
      ]
    },
    {
      "cell_type": "markdown",
      "metadata": {
        "id": "84xURw65Cwza",
        "colab_type": "text"
      },
      "source": [
        "Look at the following example and try to understand every single line of code (take your time)."
      ]
    },
    {
      "cell_type": "code",
      "metadata": {
        "id": "SOdWKr25BMs-",
        "colab_type": "code",
        "colab": {
          "base_uri": "https://localhost:8080/",
          "height": 282
        },
        "outputId": "3328ae85-7b5d-4345-bdb0-8d62030e66a7"
      },
      "source": [
        "#create 2x2 subplot with shared x-axis\n",
        "fig, ((ax1, ax2), (ax3, ax4)) = plt.subplots(2, 2, sharex=True)\n",
        "axs = [ax1,ax2,ax3,ax4]\n",
        "\n",
        "# draw n random samples and plot the histograms\n",
        "for n in range(0,len(axs)):\n",
        "  sample_size = 10**(n+1)\n",
        "  sample = np.random.normal(loc=0.0, scale=1.0, size=sample_size)\n",
        "  axs[n].hist(sample, bins=100)\n",
        "  axs[n].set_title('n={}'.format(sample_size))"
      ],
      "execution_count": 47,
      "outputs": [
        {
          "output_type": "display_data",
          "data": {
            "image/png": "[encoded data removed]",
            "text/plain": [
              "<Figure size 432x288 with 4 Axes>"
            ]
          },
          "metadata": {
            "tags": [],
            "needs_background": "light"
          }
        }
      ]
    },
    {
      "cell_type": "markdown",
      "metadata": {
        "id": "v1Q3sJLEDewu",
        "colab_type": "text"
      },
      "source": [
        "## Boxplot"
      ]
    },
    {
      "cell_type": "markdown",
      "metadata": {
        "id": "XonKD-17DhC4",
        "colab_type": "text"
      },
      "source": [
        "We can also create more advance types of plots - such as the boxplot. As this plot is rather advanced, it is not likely to be a topic in the exam. If you are nonetheless interested in how it works, feel free to scroll through [this tutorial](http://blog.bharatbhole.com/creating-boxplots-with-matplotlib/). "
      ]
    },
    {
      "cell_type": "code",
      "metadata": {
        "id": "NZoRXNFzEGzr",
        "colab_type": "code",
        "colab": {}
      },
      "source": [
        "def annotate_boxplot(bpdict, annotate_params=None, x_offset=0.05, x_loc=0, text_offset_x=35, text_offset_y=20):\n",
        "  annotate_params = dict(xytext=(text_offset_x, text_offset_y), textcoords='offset points', arrowprops={'arrowstyle':'->'})\n",
        "  plt.annotate('Median', (x_loc + 1 + x_offset, bpdict['medians'][x_loc].get_ydata()[0]),\n",
        "               **annotate_params)\n",
        "  plt.annotate('25%', (x_loc + 1 + x_offset, bpdict['boxes'][x_loc].get_ydata()[0]), **annotate_params)\n",
        "  plt.annotate('75%', (x_loc + 1 + x_offset, bpdict['boxes'][x_loc].get_ydata()[2]), **annotate_params)\n",
        "  plt.annotate('5%', (x_loc + 1 + x_offset, bpdict['caps'][x_loc*2].get_ydata()[0]), **annotate_params)\n",
        "  plt.annotate('95%', (x_loc + 1 + x_offset, bpdict['caps'][(x_loc*2)+1].get_ydata()[0]), **annotate_params)"
      ],
      "execution_count": 0,
      "outputs": []
    },
    {
      "cell_type": "code",
      "metadata": {
        "id": "Qc9ITIk4EXvi",
        "colab_type": "code",
        "colab": {
          "base_uri": "https://localhost:8080/",
          "height": 273
        },
        "outputId": "6506c2e8-10f6-46dd-b089-a3f290b0e467"
      },
      "source": [
        "df = pd.DataFrame({'col1': np.random.normal(size=100), 'col2': np.random.normal(scale=2, size=100)})\n",
        "\n",
        "bpdict = df.boxplot(whis=[5, 95], return_type='dict')\n",
        "annotate_boxplot(bpdict, x_loc=1)"
      ],
      "execution_count": 49,
      "outputs": [
        {
          "output_type": "display_data",
          "data": {
            "image/png": "[encoded data removed]",
            "text/plain": [
              "<Figure size 432x288 with 1 Axes>"
            ]
          },
          "metadata": {
            "tags": [],
            "needs_background": "light"
          }
        }
      ]
    },
    {
      "cell_type": "markdown",
      "metadata": {
        "id": "M8Whcs3fEmr3",
        "colab_type": "text"
      },
      "source": [
        "## Heatmap"
      ]
    },
    {
      "cell_type": "markdown",
      "metadata": {
        "id": "Rl7EYhBKEy6E",
        "colab_type": "text"
      },
      "source": [
        "A heatmap is another great way to show a distribution of some data. It is created using the plt.hist2d() operator which takes severally differently distributed datapsets as an input and shows their distribution using colour. In general, the warmer an area is, the more datapoints exist at that certain coordinate."
      ]
    },
    {
      "cell_type": "code",
      "metadata": {
        "id": "jQNayb3xEpKj",
        "colab_type": "code",
        "colab": {
          "base_uri": "https://localhost:8080/",
          "height": 267
        },
        "outputId": "c38bfea4-1b13-4d35-a0cc-f83471cb4e1c"
      },
      "source": [
        "# return 100000 random values beteween 0 and 1 that are normally distributed\n",
        "Y = np.random.normal(loc=0.0, scale=1.0, size=10000)\n",
        "\n",
        "# return 100000 random values beteween 0 and 1\n",
        "X = np.random.random(size=10000)\n",
        "\n",
        "\n",
        "# use cmap parameter to change colour scheme, possilbe colours schemes can be found online\n",
        "plt.hist2d(X, Y, bins=25, cmap = \"cool\")\n",
        "\n",
        "plt.show()"
      ],
      "execution_count": 68,
      "outputs": [
        {
          "output_type": "display_data",
          "data": {
            "image/png": "[encoded data removed]",
            "text/plain": [
              "<Figure size 432x288 with 1 Axes>"
            ]
          },
          "metadata": {
            "tags": [],
            "needs_background": "light"
          }
        }
      ]
    },
    {
      "cell_type": "markdown",
      "metadata": {
        "id": "pgD_uewm6CpD",
        "colab_type": "text"
      },
      "source": [
        "## Plotting with Pandas"
      ]
    },
    {
      "cell_type": "markdown",
      "metadata": {
        "id": "LzPWj-TO6GMX",
        "colab_type": "text"
      },
      "source": [
        "The data we want to visualize often comes in form of a pandas DataFrame. Let's have a look how  DataFrames and our plotting library interact. The interaction is actually rather easy. Say we have any give DataFrame df with some sample data. We can then simply plot this dataframe by typing `df.plot()`"
      ]
    },
    {
      "cell_type": "code",
      "metadata": {
        "id": "ZLwA4u6r6s32",
        "colab_type": "code",
        "colab": {
          "base_uri": "https://localhost:8080/",
          "height": 301
        },
        "outputId": "e5112192-265c-4c44-c3e5-0b2cfe203474"
      },
      "source": [
        "#create a sample dataframe df\n",
        "\n",
        "np.random.seed(123)\n",
        "df = pd.DataFrame({'A': np.random.randn(365).cumsum(0),'B': np.random.randn(365).cumsum(0) + 20,\n",
        "                   'C': np.random.randn(365).cumsum(0) - 20}, index=pd.date_range('04/27/2017', periods=365))\n",
        "#plot df\n",
        "df.plot()"
      ],
      "execution_count": 70,
      "outputs": [
        {
          "output_type": "execute_result",
          "data": {
            "text/plain": [
              "<matplotlib.axes._subplots.AxesSubplot at 0x7fe299b67b38>"
            ]
          },
          "metadata": {
            "tags": []
          },
          "execution_count": 70
        },
        {
          "output_type": "display_data",
          "data": {
            "image/png": "[encoded data removed]",
            "text/plain": [
              "<Figure size 432x288 with 1 Axes>"
            ]
          },
          "metadata": {
            "tags": [],
            "needs_background": "light"
          }
        }
      ]
    },
    {
      "cell_type": "markdown",
      "metadata": {
        "id": "sIb8ESqkCfTM",
        "colab_type": "text"
      },
      "source": [
        "Scatterp Plots with Pandas"
      ]
    },
    {
      "cell_type": "markdown",
      "metadata": {
        "id": "hZ_vqlpr7WeA",
        "colab_type": "text"
      },
      "source": [
        "Within the `df.plot()` operator we can furthermore use the `kind` parameter to specify which kind of plot we wish to plot. Options include line' : \n",
        "* line plot (default)\n",
        "    - 'bar' : vertical bar plot\n",
        "    - 'barh' : horizontal bar plot\n",
        "    - 'hist' : histogram\n",
        "    - 'box' : boxplot\n",
        "    - 'kde' : Kernel Density Estimation plot\n",
        "    - 'density' : same as 'kde'\n",
        "    - 'area' : area plot\n",
        "    - 'pie' : pie plot\n",
        "    - 'scatter' : scatter plot\n",
        "    - 'hexbin"
      ]
    },
    {
      "cell_type": "code",
      "metadata": {
        "id": "Je3BHclbCJhH",
        "colab_type": "code",
        "colab": {
          "base_uri": "https://localhost:8080/",
          "height": 305
        },
        "outputId": "ceb305ac-f367-4294-b7b7-f0dbc516ea73"
      },
      "source": [
        "df.plot(\"A\", \"B\" ,kind= \"scatter\")"
      ],
      "execution_count": 77,
      "outputs": [
        {
          "output_type": "execute_result",
          "data": {
            "text/plain": [
              "<matplotlib.axes._subplots.AxesSubplot at 0x7fe29860dd30>"
            ]
          },
          "metadata": {
            "tags": []
          },
          "execution_count": 77
        },
        {
          "output_type": "display_data",
          "data": {
            "image/png": "[encoded data removed]",
            "text/plain": [
              "<Figure size 432x288 with 1 Axes>"
            ]
          },
          "metadata": {
            "tags": [],
            "needs_background": "light"
          }
        }
      ]
    },
    {
      "cell_type": "markdown",
      "metadata": {
        "id": "wUDzW_PNDAoo",
        "colab_type": "text"
      },
      "source": [
        "Due to the fact that we have two axes as well as different colours for the datapoints in a scatterplot, this kind of plot is especially useful when visualizing three dimensional data in a linear fashion. Here just think of our iris dataset from the beginning:\n"
      ]
    },
    {
      "cell_type": "code",
      "metadata": {
        "id": "e2IK4flxDTea",
        "colab_type": "code",
        "colab": {
          "base_uri": "https://localhost:8080/",
          "height": 440
        },
        "outputId": "02bff3c7-2ebc-4426-eec1-8aa2afce292e"
      },
      "source": [
        "plt.figure(figsize=(8, 6))\n",
        "plt.scatter(iris.data[:, x_index], iris.data[:, y_index], c=iris.target)\n",
        "cb = plt.colorbar(ticks=[0, 1, 2], format=formatter)\n",
        "cb.ax.set_ylabel('Flower Species', rotation=270, labelpad = 15)\n",
        "plt.xlabel(iris.feature_names[x_index])\n",
        "plt.ylabel(iris.feature_names[y_index])\n",
        "\n",
        "plt.tight_layout()\n",
        "plt.show()"
      ],
      "execution_count": 84,
      "outputs": [
        {
          "output_type": "display_data",
          "data": {
            "image/png": "[encoded data removed]",
            "text/plain": [
              "<Figure size 576x432 with 2 Axes>"
            ]
          },
          "metadata": {
            "tags": [],
            "needs_background": "light"
          }
        }
      ]
    },
    {
      "cell_type": "markdown",
      "metadata": {
        "id": "2Uqt1Xr0E963",
        "colab_type": "text"
      },
      "source": [
        "Another way to create a scatter plot from a dataframe would be the use of the `df.plot.scatter()` parameter. The use is quite similar to above."
      ]
    },
    {
      "cell_type": "code",
      "metadata": {
        "id": "9ZM7a_7fFHdK",
        "colab_type": "code",
        "colab": {
          "base_uri": "https://localhost:8080/",
          "height": 264
        },
        "outputId": "4fd240f6-adc7-4368-870e-d8f7cc3054a5"
      },
      "source": [
        "np.random.seed(123)\n",
        "df = pd.DataFrame({'Length': np.random.randn(365).cumsum(0),\n",
        "                   'Width': np.random.randn(365).cumsum(0) + 20,\n",
        "                   'Height': np.random.randn(365).cumsum(0) - 20},\n",
        "index=pd.date_range('04/27/2020', periods=365))\n",
        "ax = df.plot.scatter('Length', 'Height', c='Width', cmap='viridis')\n",
        "ax.set_aspect(\"equal\")"
      ],
      "execution_count": 86,
      "outputs": [
        {
          "output_type": "display_data",
          "data": {
            "image/png": "[encoded data removed]",
            "text/plain": [
              "<Figure size 432x288 with 2 Axes>"
            ]
          },
          "metadata": {
            "tags": [],
            "needs_background": "light"
          }
        }
      ]
    },
    {
      "cell_type": "markdown",
      "metadata": {
        "id": "JN2_zx-cFXHU",
        "colab_type": "text"
      },
      "source": [
        "### 3D Scatterplot"
      ]
    },
    {
      "cell_type": "markdown",
      "metadata": {
        "id": "HDd0ZRL5FbB4",
        "colab_type": "text"
      },
      "source": [
        "In case we have higher dimensional data, it might be useful to plot a 3D graph. As this involves rather advanced python, this is not going to be relevant for the exam. The following example should nonetheless give you an idea of how it works:"
      ]
    },
    {
      "cell_type": "code",
      "metadata": {
        "id": "r580wP9OFWKy",
        "colab_type": "code",
        "colab": {
          "base_uri": "https://localhost:8080/",
          "height": 270
        },
        "outputId": "6dea639e-850e-4ca0-b9d9-91e8d35ebadd"
      },
      "source": [
        "from mpl_toolkits.mplot3d import Axes3D\n",
        "\n",
        "#create sample dataframe with 3Dimensions\n",
        "np.random.seed(123)\n",
        "df = pd.DataFrame({'Length': np.random.randn(365).cumsum(0), 'Width': np.random.randn(365).cumsum(0) + 20,\n",
        "                   'Height': np.random.randn(365).cumsum(0) - 20},\n",
        "index=pd.date_range('04/27/2020', periods=365))\n",
        "\n",
        "#create 3D scatter plot\n",
        "fig = plt.figure()\n",
        "ax = fig.add_subplot(111, projection='3d')\n",
        "ax.scatter(df[\"Length\"].values, df[\"Height\"].values, df[\"Width\"].values, c=df[\"Width\"].values)\n",
        "ax.set_xlabel('Length');ax.set_ylabel('Height');ax.set_zlabel('Width')"
      ],
      "execution_count": 88,
      "outputs": [
        {
          "output_type": "execute_result",
          "data": {
            "text/plain": [
              "Text(0.5, 0, 'Width')"
            ]
          },
          "metadata": {
            "tags": []
          },
          "execution_count": 88
        },
        {
          "output_type": "display_data",
          "data": {
            "image/png": "[encoded data removed]",
            "text/plain": [
              "<Figure size 432x288 with 1 Axes>"
            ]
          },
          "metadata": {
            "tags": [],
            "needs_background": "light"
          }
        }
      ]
    },
    {
      "cell_type": "markdown",
      "metadata": {
        "id": "3rSsU7LgGPQL",
        "colab_type": "text"
      },
      "source": [
        "Note: Pandas does not have an operator `df.plot()` for 3D plots"
      ]
    },
    {
      "cell_type": "markdown",
      "metadata": {
        "id": "gro4f5E2GanQ",
        "colab_type": "text"
      },
      "source": [
        "### Bot Plox with Pandas\n"
      ]
    },
    {
      "cell_type": "markdown",
      "metadata": {
        "id": "d1xZ-S09Gdhj",
        "colab_type": "text"
      },
      "source": [
        "Using the opeartor `df.plot.box()` one can furthermore create a boxplot out of a dataframe"
      ]
    },
    {
      "cell_type": "code",
      "metadata": {
        "id": "ycp7XNp6Gjzx",
        "colab_type": "code",
        "colab": {
          "base_uri": "https://localhost:8080/",
          "height": 290
        },
        "outputId": "8e219e7e-55aa-4ad8-cd86-d1c3b5cec5eb"
      },
      "source": [
        "np.random.seed(123)\n",
        "df = pd.DataFrame({'Length': np.random.randn(365).cumsum(0), 'Width': np.random.randn(365).cumsum(0) + 20, 'Height': np.random.randn(365).cumsum(0) - 20},\n",
        "index=pd.date_range('04/27/2020', periods=365))\n",
        "\n",
        "#create box plot\n",
        "df.plot.box()"
      ],
      "execution_count": 90,
      "outputs": [
        {
          "output_type": "execute_result",
          "data": {
            "text/plain": [
              "<matplotlib.axes._subplots.AxesSubplot at 0x7fe2982eb390>"
            ]
          },
          "metadata": {
            "tags": []
          },
          "execution_count": 90
        },
        {
          "output_type": "display_data",
          "data": {
            "image/png": "[encoded data removed]",
            "text/plain": [
              "<Figure size 432x288 with 1 Axes>"
            ]
          },
          "metadata": {
            "tags": [],
            "needs_background": "light"
          }
        }
      ]
    }
  ]
}