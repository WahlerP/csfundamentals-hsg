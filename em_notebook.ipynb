{
  "nbformat": 4,
  "nbformat_minor": 0,
  "metadata": {
    "kernelspec": {
      "display_name": "Python 3",
      "language": "python",
      "name": "python3"
    },
    "language_info": {
      "codemirror_mode": {
        "name": "ipython",
        "version": 3
      },
      "file_extension": ".py",
      "mimetype": "text/x-python",
      "name": "python",
      "nbconvert_exporter": "python",
      "pygments_lexer": "ipython3",
      "version": "3.6.0"
    },
    "colab": {
      "name": "em-notebook.ipynb",
      "provenance": [],
      "include_colab_link": true
    }
  },
  "cells": [
    {
      "cell_type": "markdown",
      "metadata": {
        "id": "view-in-github",
        "colab_type": "text"
      },
      "source": [
        "<a href=\"https://colab.research.google.com/github/WahlerP/csfundamentals-hsg/blob/master/em_notebook.ipynb\" target=\"_parent\"><img src=\"https://colab.research.google.com/assets/colab-badge.svg\" alt=\"Open In Colab\"/></a>"
      ]
    },
    {
      "cell_type": "markdown",
      "metadata": {
        "collapsed": true,
        "id": "jMdvqeSy3Oq6",
        "colab_type": "text"
      },
      "source": [
        "# Expectation Maximisation: estimating mean and standard deviation\n",
        "\n",
        "This notebook is based on the videos from Victor Lavrenko (see https://www.youtube.com/watch?v=iQoXFmbXRJA)."
      ]
    },
    {
      "cell_type": "markdown",
      "metadata": {
        "id": "Yi6Pmx8v3Oq6",
        "colab_type": "text"
      },
      "source": [
        "## Setup\n",
        "\n",
        "Suppose we are given two sets of samples, red and blue, drawn from two different [normal distributions](https://en.wikipedia.org/wiki/Normal_distribution). Our goal will be to find the mean and standard deviation for each group of points."
      ]
    },
    {
      "cell_type": "code",
      "metadata": {
        "id": "5XLrNDec3Oq7",
        "colab_type": "code",
        "colab": {}
      },
      "source": [
        "import numpy as np\n",
        "\n",
        "np.random.seed(110) # for reproducible results\n",
        "\n",
        "# set the parameters for red and blue distributions we will draw from\n",
        "red_mean = 3\n",
        "red_std = 0.8\n",
        "\n",
        "blue_mean = 7\n",
        "blue_std = 2\n",
        "\n",
        "# draw 20 samples from each normal distribution\n",
        "red = np.random.normal(red_mean, red_std, size=20)\n",
        "blue = np.random.normal(blue_mean, blue_std, size=20)\n",
        "\n",
        "both_colours = np.sort(np.concatenate((red, blue))) # array with every sample point (for later use)"
      ],
      "execution_count": 0,
      "outputs": []
    },
    {
      "cell_type": "markdown",
      "metadata": {
        "id": "oBeR-Jf93Oq_",
        "colab_type": "text"
      },
      "source": [
        "Just so it's clear what we working with, let's plot these red and blue groups:"
      ]
    },
    {
      "cell_type": "code",
      "metadata": {
        "id": "9ZATnG583OrA",
        "colab_type": "code",
        "colab": {
          "base_uri": "https://localhost:8080/",
          "height": 177
        },
        "outputId": "e43583c7-9e2e-4b2e-f098-e9205509d19c"
      },
      "source": [
        "%matplotlib inline\n",
        "\n",
        "import matplotlib.pyplot as plt\n",
        "\n",
        "plt.rcParams['figure.figsize'] = (15, 2)\n",
        "\n",
        "plt.plot(red, np.zeros_like(red), '.', color='r', markersize=10);\n",
        "plt.plot(blue, np.zeros_like(blue), '.', color='b', markersize=10);\n",
        "plt.title(r'Distribution of red and blue points (known colours)', fontsize=17);\n",
        "plt.yticks([]);"
      ],
      "execution_count": 2,
      "outputs": [
        {
          "output_type": "display_data",
          "data": {
            "image/png": "[encoded data removed]",
            "text/plain": [
              "<Figure size 1080x144 with 1 Axes>"
            ]
          },
          "metadata": {
            "tags": [],
            "needs_background": "light"
          }
        }
      ]
    },
    {
      "cell_type": "markdown",
      "metadata": {
        "id": "2j5DMKVE3OrD",
        "colab_type": "text"
      },
      "source": [
        "When we can see the colour of each point, it is very easy to find accurate values for the red mean and the blue mean (and the standard deviation too). In fact we can just pass our arrays of red and blue points to NumPy's built in functions in this case:"
      ]
    },
    {
      "cell_type": "code",
      "metadata": {
        "id": "DbVCF94j3OrD",
        "colab_type": "code",
        "colab": {
          "base_uri": "https://localhost:8080/",
          "height": 34
        },
        "outputId": "615ade2f-d544-4080-a9c0-4645376cefa5"
      },
      "source": [
        "np.mean(red)"
      ],
      "execution_count": 3,
      "outputs": [
        {
          "output_type": "execute_result",
          "data": {
            "text/plain": [
              "2.8132116984626867"
            ]
          },
          "metadata": {
            "tags": []
          },
          "execution_count": 3
        }
      ]
    },
    {
      "cell_type": "code",
      "metadata": {
        "id": "xQx9enHc3OrH",
        "colab_type": "code",
        "colab": {
          "base_uri": "https://localhost:8080/",
          "height": 34
        },
        "outputId": "f1630eb9-61d8-483e-b0c9-fc65a7c4157c"
      },
      "source": [
        "np.std(red)"
      ],
      "execution_count": 4,
      "outputs": [
        {
          "output_type": "execute_result",
          "data": {
            "text/plain": [
              "0.8001119672360739"
            ]
          },
          "metadata": {
            "tags": []
          },
          "execution_count": 4
        }
      ]
    },
    {
      "cell_type": "code",
      "metadata": {
        "id": "s7nS5zYJ3OrK",
        "colab_type": "code",
        "colab": {
          "base_uri": "https://localhost:8080/",
          "height": 34
        },
        "outputId": "2ead145a-12b9-49b4-ce0d-f342f5701d07"
      },
      "source": [
        "np.mean(blue)"
      ],
      "execution_count": 5,
      "outputs": [
        {
          "output_type": "execute_result",
          "data": {
            "text/plain": [
              "6.972553898467638"
            ]
          },
          "metadata": {
            "tags": []
          },
          "execution_count": 5
        }
      ]
    },
    {
      "cell_type": "code",
      "metadata": {
        "id": "ZXkI4aB83OrM",
        "colab_type": "code",
        "colab": {
          "base_uri": "https://localhost:8080/",
          "height": 34
        },
        "outputId": "8436a857-52fd-400e-bf86-638e67f62cbd"
      },
      "source": [
        "np.std(blue)"
      ],
      "execution_count": 6,
      "outputs": [
        {
          "output_type": "execute_result",
          "data": {
            "text/plain": [
              "2.0388437926931493"
            ]
          },
          "metadata": {
            "tags": []
          },
          "execution_count": 6
        }
      ]
    },
    {
      "cell_type": "markdown",
      "metadata": {
        "id": "IcZhAcKN3OrO",
        "colab_type": "text"
      },
      "source": [
        "## Hidden colours\n",
        "\n",
        "Now suppose some malicious actor decides to paint every point purple:"
      ]
    },
    {
      "cell_type": "code",
      "metadata": {
        "id": "ugN_opfs3OrP",
        "colab_type": "code",
        "colab": {
          "base_uri": "https://localhost:8080/",
          "height": 177
        },
        "outputId": "27c19ffa-a39e-45fd-c698-f1e12bc1db7e"
      },
      "source": [
        "plt.rcParams['figure.figsize'] = (15, 2)\n",
        "\n",
        "plt.plot(both_colours, np.zeros_like(both_colours), '.', color='purple', markersize=10);\n",
        "plt.title(r'Distribution of red and blue points (hidden colours)', fontsize=17);\n",
        "plt.yticks([]);"
      ],
      "execution_count": 7,
      "outputs": [
        {
          "output_type": "display_data",
          "data": {
            "image/png": "[encoded data removed]",
            "text/plain": [
              "<Figure size 1080x144 with 1 Axes>"
            ]
          },
          "metadata": {
            "tags": [],
            "needs_background": "light"
          }
        }
      ]
    },
    {
      "cell_type": "markdown",
      "metadata": {
        "id": "3wGhXLFV3OrR",
        "colab_type": "text"
      },
      "source": [
        "To our misfortune, we now have *hidden variables*.\n",
        "\n",
        "We know each point is really *either* red or blue, but the actual colour is not known to us. As such, we don't which values to put into the formulae for the mean and standard deviation. NumPy's built in functions are no longer helpful on their own.\n",
        "\n",
        "How can we estimate the most likely values for the mean and standard devaition of each group now?\n",
        "\n",
        "We will use **Expectation Maximisation** to find the best estimates for these values."
      ]
    },
    {
      "cell_type": "markdown",
      "metadata": {
        "id": "HI5JFFYS3OrR",
        "colab_type": "text"
      },
      "source": [
        "## Likelihood function\n",
        "\n",
        "First we need a [likelihood function](https://en.wikipedia.org/wiki/Likelihood_function). Remember: expectation maximisation is about finding the values the make this function output as large a value as possible given our data points.\n",
        "\n",
        "We are interested in the probability that the parameters of a distribution, say blue's mean and standard deviation parameters (denoted $B$), are correct given the observed data (denoted $x_i$). In mathematical notation this can be written as the conditional probability:\n",
        "\n",
        "$$p(B \\mid x_i)$$\n",
        "\n",
        "[Bayes' theorem](https://en.wikipedia.org/wiki/Bayes%27_theorem) tells us that:\n",
        "\n",
        "$$ p(B \\mid x_i) = \\frac{p(x_i \\mid B)\\cdot p(B)}{p(x_i)}$$\n",
        "\n",
        "We will also assume uniform priors in this example (we think each point is equally likely to be red or blue bfore we see the data because there were equal numbers for each): $p(B) = p(R) = 0.5$. We don't know what $p(x_i)$ is, but we don't need to for our purpose here.\n",
        "\n",
        "This means:\n",
        "\n",
        "$$ p(B \\mid x_i) = p(x_i \\mid B) \\cdot k$$\n",
        "\n",
        "For some contant $k$.\n",
        "\n",
        "But we will ignore $k$ since likelihood values do need to lie between 0 and 1. This means that our likelihood function can just be:\n",
        "\n",
        "$$L(B \\mid x_i) =  P(x_i \\mid B)$$\n",
        "\n",
        "This probability density function is conveniently available via SciPy's stats module: \n",
        "\n",
        "``` python\n",
        "stats.norm(mean, standard_deviation).pdf(x)\n",
        "```"
      ]
    },
    {
      "cell_type": "markdown",
      "metadata": {
        "id": "oP1QNtD63OrS",
        "colab_type": "text"
      },
      "source": [
        "For example if the mean of our distribution is 50 and the standard deviation is 15, we can see that we are roughly 10 times more likely to draw the value 61 rather than 84:"
      ]
    },
    {
      "cell_type": "code",
      "metadata": {
        "id": "xRkaFCTS3OrS",
        "colab_type": "code",
        "colab": {
          "base_uri": "https://localhost:8080/",
          "height": 34
        },
        "outputId": "fa95c8e4-2c26-436c-fef5-f3402c8474ee"
      },
      "source": [
        "from scipy import stats\n",
        "\n",
        "stats.norm(50, 15).pdf([61, 84])"
      ],
      "execution_count": 8,
      "outputs": [
        {
          "output_type": "execute_result",
          "data": {
            "text/plain": [
              "array([0.02032553, 0.00203781])"
            ]
          },
          "metadata": {
            "tags": []
          },
          "execution_count": 8
        }
      ]
    },
    {
      "cell_type": "markdown",
      "metadata": {
        "id": "Qh7FFbm63OrU",
        "colab_type": "text"
      },
      "source": [
        "## Expectation Maximistation\n",
        "\n",
        "We know that we have two groups of points, each drawn from a normal distribution. We also have a likelihood function and we would like to find values for the mean and standard deviation that maximise this function (maximum likelihood estimation).\n",
        "\n",
        "Our approach using will be as follows:\n",
        "\n",
        "1. Start with initial estimates of the mean and standard deviation for the red and blue groups (these can be anything).\n",
        "2. Check how likely each (mean, standard deviation) estimate is to produce each sequence each of the data points (using the likelihood function).\n",
        "3. Produce a weighting for each (mean, stand deviation) pair for each data point. In other words, the greater the weighting the more we believe the point to have been drawn from a distribution with those parameters. These weights will allow us to \"rescale\" the data points along the axis (the **Expectation** step).\n",
        "4. Use formulae to compute new maximum likelihood estimates of each paramter based on the rescaled data points (the **Maximisation** step).\n",
        "5. Repeat steps 2-4 until each parameter estimate has converged, or a set number of iterations has been reached."
      ]
    },
    {
      "cell_type": "markdown",
      "metadata": {
        "id": "2sNu6jCO3OrV",
        "colab_type": "text"
      },
      "source": [
        "Here is a function to compute the weight for each data point (parameters and values are both NumPy arrays):"
      ]
    },
    {
      "cell_type": "code",
      "metadata": {
        "id": "37duZcaG3OrV",
        "colab_type": "code",
        "colab": {}
      },
      "source": [
        "def weight_of_colour(colour_likelihood, total_likelihood):\n",
        "    \"\"\"\n",
        "    Compute the weight for each colour at each data point.\n",
        "    \"\"\"\n",
        "    return colour_likelihood / total_likelihood"
      ],
      "execution_count": 0,
      "outputs": []
    },
    {
      "cell_type": "markdown",
      "metadata": {
        "id": "bpmJg3AI3OrY",
        "colab_type": "text"
      },
      "source": [
        "All we need now are functions to estimate the new mean and standard deviation using the weights for Steps 3 and 4 (for more discussion about these functions, see the following section):"
      ]
    },
    {
      "cell_type": "code",
      "metadata": {
        "id": "DzQ-IrgC3OrZ",
        "colab_type": "code",
        "colab": {}
      },
      "source": [
        "def estimate_mean(data, weight):\n",
        "    \"\"\"\n",
        "    For each data point, multiply the point by the probability it\n",
        "    was drawn from the colour's distribution (its \"weight\").\n",
        "    \n",
        "    Divide by the total weight: essentially, we're finding where \n",
        "    the weight is centred among our data points.\n",
        "    \"\"\"\n",
        "    return np.sum(data * weight) / np.sum(weight)\n",
        "\n",
        "def estimate_std(data, weight, mean):\n",
        "    \"\"\"\n",
        "    For each data point, multiply the point's squared difference\n",
        "    from a mean value by the probability it was drawn from\n",
        "    that distribution (its \"weight\").\n",
        "    \n",
        "    Divide by the total weight: essentially, we're finding where \n",
        "    the weight is centred among the values for the difference of\n",
        "    each data point from the mean.\n",
        "    \n",
        "    This is the estimate of the variance, take the positive square\n",
        "    root to find the standard deviation.\n",
        "    \"\"\"\n",
        "    variance = np.sum(weight * (data - mean)**2) / np.sum(weight)\n",
        "    return np.sqrt(variance)"
      ],
      "execution_count": 0,
      "outputs": []
    },
    {
      "cell_type": "markdown",
      "metadata": {
        "id": "91QOhZqx3Orb",
        "colab_type": "text"
      },
      "source": [
        "On to Step 1 of the EM algorithm!\n",
        "\n",
        "We have no good idea of what the mean and standard deviation might be, so we'll make initial guesses:"
      ]
    },
    {
      "cell_type": "code",
      "metadata": {
        "id": "nvA0mNFN3Orb",
        "colab_type": "code",
        "colab": {}
      },
      "source": [
        "# estimates for the mean\n",
        "red_mean_guess = 1.1\n",
        "blue_mean_guess = 9\n",
        "\n",
        "# estimates for the standard deviation\n",
        "red_std_guess = 2\n",
        "blue_std_guess = 1.7"
      ],
      "execution_count": 0,
      "outputs": []
    },
    {
      "cell_type": "markdown",
      "metadata": {
        "id": "rZERHcEt3Ore",
        "colab_type": "text"
      },
      "source": [
        "How well do these parameters describe our purple data points?\n",
        "\n",
        "First we'll just define a convenient function for plotting the red and blue bell curves:"
      ]
    },
    {
      "cell_type": "code",
      "metadata": {
        "id": "34-FHHCp3Ore",
        "colab_type": "code",
        "colab": {}
      },
      "source": [
        "def plot_guesses(red_mean_guess, blue_mean_guess, red_std_guess, blue_std_guess, alpha=1):\n",
        "    \"\"\"\n",
        "    Plot bell curves for the red and blue distributions given guesses for mean and standard deviation.\n",
        "    \n",
        "    alpha : transparency of the plotted curve\n",
        "    \"\"\"\n",
        "    # set figure size and plot the purple dots\n",
        "    plt.rcParams['figure.figsize'] = (15, 5)\n",
        "    plt.plot(both_colours, np.zeros_like(both_colours), '.', color='purple', markersize=10)\n",
        "       \n",
        "    # compute the size of the x axis\n",
        "    lo = np.floor(both_colours.min()) - 1\n",
        "    hi = np.ceil(both_colours.max()) + 1\n",
        "    x = np.linspace(lo, hi, 500)\n",
        "    \n",
        "    # plot the bell curves\n",
        "    plt.plot(x, stats.norm(red_mean_guess, red_std_guess).pdf(x), color='r', alpha=alpha)\n",
        "    plt.plot(x, stats.norm(blue_mean_guess, blue_std_guess).pdf(x), color='b', alpha=alpha)\n",
        "    \n",
        "    # vertical dotted lines for the mean of each colour - find the height\n",
        "    # first (i.e. the probability of the mean of the colour group)\n",
        "    r_height = stats.norm(red_mean_guess, red_std_guess).pdf(red_mean_guess)\n",
        "    b_height = stats.norm(blue_mean_guess, blue_std_guess).pdf(blue_mean_guess)\n",
        "    \n",
        "    plt.vlines(red_mean_guess, 0, r_height, 'r', '--', alpha=alpha)\n",
        "    plt.vlines(blue_mean_guess, 0, b_height, 'b', '--', alpha=alpha);"
      ],
      "execution_count": 0,
      "outputs": []
    },
    {
      "cell_type": "markdown",
      "metadata": {
        "id": "TwIxdksX3Orh",
        "colab_type": "text"
      },
      "source": [
        "Now plot the initial guesses:"
      ]
    },
    {
      "cell_type": "code",
      "metadata": {
        "id": "QgjTZQx_3Orh",
        "colab_type": "code",
        "colab": {
          "base_uri": "https://localhost:8080/",
          "height": 320
        },
        "outputId": "b1a18e45-e61d-4502-d578-064651c6411b"
      },
      "source": [
        "plot_guesses(red_mean_guess, blue_mean_guess, red_std_guess, blue_std_guess)"
      ],
      "execution_count": 13,
      "outputs": [
        {
          "output_type": "display_data",
          "data": {
            "image/png": "[encoded data removed]",
            "text/plain": [
              "<Figure size 1080x360 with 1 Axes>"
            ]
          },
          "metadata": {
            "tags": [],
            "needs_background": "light"
          }
        }
      ]
    },
    {
      "cell_type": "markdown",
      "metadata": {
        "id": "-B077c583Ork",
        "colab_type": "text"
      },
      "source": [
        "These guesses are clearly not good. We knew that each group had an equal number of points, but the mean of each distribution looks to be far off any possible \"middle\" value.\n",
        "\n",
        "Let's perform several iterations of Expectation Maximisation to improve these estimates:"
      ]
    },
    {
      "cell_type": "code",
      "metadata": {
        "id": "a0rUl-UX3Ork",
        "colab_type": "code",
        "colab": {
          "base_uri": "https://localhost:8080/",
          "height": 340
        },
        "outputId": "cff0fc7b-0aa7-4cba-ed08-3e1445b6a2fe"
      },
      "source": [
        "# estimates for the mean\n",
        "red_mean_guess = 1.1\n",
        "blue_mean_guess = 9\n",
        "\n",
        "# estimates for the standard deviation\n",
        "red_std_guess = 2\n",
        "blue_std_guess = 1.7\n",
        "\n",
        "N_ITER = 20 # number of iterations of EM\n",
        "\n",
        "alphas = np.linspace(0.2, 1, N_ITER) # transparency of curves to plot for each iteration\n",
        "\n",
        "\n",
        "# plot initial estimates\n",
        "plot_guesses(red_mean_guess, blue_mean_guess, red_std_guess, blue_std_guess, alpha=0.13)\n",
        "\n",
        "\n",
        "for i in range(N_ITER):\n",
        "    \n",
        "    ## Expectation step\n",
        "    ## ----------------\n",
        "\n",
        "    likelihood_of_red = stats.norm(red_mean_guess, red_std_guess).pdf(both_colours)\n",
        "    likelihood_of_blue = stats.norm(blue_mean_guess, blue_std_guess).pdf(both_colours)\n",
        "\n",
        "    red_weight = weight_of_colour(likelihood_of_red, likelihood_of_red+likelihood_of_blue)\n",
        "    blue_weight = weight_of_colour(likelihood_of_blue, likelihood_of_red+likelihood_of_blue)\n",
        "\n",
        "    ## Maximisation step\n",
        "    ## -----------------\n",
        "    \n",
        "    # N.B. it should not ultimately matter if compute the new standard deviation guess\n",
        "    # before or after the new mean guess\n",
        "    \n",
        "    red_std_guess = estimate_std(both_colours, red_weight, red_mean_guess)\n",
        "    blue_std_guess = estimate_std(both_colours, blue_weight, blue_mean_guess)\n",
        "\n",
        "    red_mean_guess = estimate_mean(both_colours, red_weight)\n",
        "    blue_mean_guess = estimate_mean(both_colours, blue_weight)\n",
        "\n",
        "    plot_guesses(red_mean_guess, blue_mean_guess, red_std_guess, blue_std_guess, alpha=alphas[i])\n",
        "    \n",
        "plt.title(\n",
        "    r'Estimates of group distributions after {} iterations of Expectation Maximisation'.format(\n",
        "        N_ITER\n",
        "    ), \n",
        "    fontsize=17);"
      ],
      "execution_count": 14,
      "outputs": [
        {
          "output_type": "display_data",
          "data": {
            "image/png": "[encoded data removed]",
            "text/plain": [
              "<Figure size 1080x360 with 1 Axes>"
            ]
          },
          "metadata": {
            "tags": [],
            "needs_background": "light"
          }
        }
      ]
    },
    {
      "cell_type": "markdown",
      "metadata": {
        "id": "djuHsiWY3Orn",
        "colab_type": "text"
      },
      "source": [
        "You should be able to see the shape of each bell curve converging. Let's compare our estimates to the true values for mean and standard deviation: "
      ]
    },
    {
      "cell_type": "code",
      "metadata": {
        "id": "TSmDK3sf3Orn",
        "colab_type": "code",
        "colab": {
          "base_uri": "https://localhost:8080/",
          "height": 34
        },
        "outputId": "67e5d986-79a5-4899-8fa4-1b9641d79ac2"
      },
      "source": [
        "from IPython.display import Markdown\n",
        "\n",
        "md = \"\"\"\n",
        "|            | True Mean      | Estimated Mean | True Std.      | Estimated Std. | \n",
        "| :--------- |:--------------:| :------------: |:-------------: |:-------------: |\n",
        "| Red        | {true_r_m:.5f} | {est_r_m:.5f}  | {true_r_s:.5f} | {est_r_s:.5f}  | \n",
        "| Blue       | {true_b_m:.5f} | {est_b_m:.5f}  | {true_b_s:.5f} | {est_b_s:.5f}  |\n",
        "\"\"\"\n",
        "\n",
        "Markdown(\n",
        "    md.format(\n",
        "        true_r_m=np.mean(red),\n",
        "        true_b_m=np.mean(blue),\n",
        "        \n",
        "        est_r_m=red_mean_guess,\n",
        "        est_b_m=blue_mean_guess,\n",
        "        \n",
        "        true_r_s=np.std(red),\n",
        "        true_b_s=np.std(blue),\n",
        "        \n",
        "        est_r_s=red_std_guess,\n",
        "        est_b_s=blue_std_guess,\n",
        "    )\n",
        ")"
      ],
      "execution_count": 15,
      "outputs": [
        {
          "output_type": "execute_result",
          "data": {
            "text/markdown": "\n|            | True Mean      | Estimated Mean | True Std.      | Estimated Std. | \n| :--------- |:--------------:| :------------: |:-------------: |:-------------: |\n| Red        | 2.81321 | 2.90962  | 0.80011 | 0.85420  | \n| Blue       | 6.97255 | 6.83823  | 2.03884 | 2.22719  |\n",
            "text/plain": [
              "<IPython.core.display.Markdown object>"
            ]
          },
          "metadata": {
            "tags": []
          },
          "execution_count": 15
        }
      ]
    },
    {
      "cell_type": "markdown",
      "metadata": {
        "collapsed": true,
        "id": "kvA1jNd63Orq",
        "colab_type": "text"
      },
      "source": [
        "## About the estimation functions\n",
        "\n",
        "The functions `estimate_mean()` and `estimate_std()` were crucial to the Expectation step, but no real explanation was offered as to why those computations were performed.\n",
        "\n",
        "If you've read the first notebook in this repository, you will have seen the discussion about how the redistribution of weight among the data points is key to understanding why EM works and our paramter estimates converge. \n",
        "\n",
        "In this example, each point has some red weight and some blue weight.\n",
        "\n",
        "The `estimate_mean()` function simply looks at the total weight among the datapoints for a particular colour and computes where it is centred on the axis that the data points lie on:\n",
        "\n",
        "``` python\n",
        "np.sum(data * weight) / np.sum(weight)\n",
        "```\n",
        "\n",
        "Similarly, `estimate_std()` computes the squared values for difference from some central point (`mean`) and works out where the weight of *those* values is centred:\n",
        "\n",
        "``` python\n",
        "np.sum(weight * (data - mean)**2) / np.sum(weight)\n",
        "```\n",
        "\n",
        "The next time we look at the likelihood of a data point appearing given the parameters, we should see data points that were weighted more towards red that blue become even more strongly weighted towards red. The maximum likelihood estimates will continue to improve until the weight of all points is 1 in favour of either colour. "
      ]
    },
    {
      "cell_type": "code",
      "metadata": {
        "id": "FOirqbk53Orq",
        "colab_type": "code",
        "colab": {}
      },
      "source": [
        ""
      ],
      "execution_count": 0,
      "outputs": []
    }
  ]
}